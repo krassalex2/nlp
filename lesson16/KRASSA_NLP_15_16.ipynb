{
  "cells": [
    {
      "cell_type": "markdown",
      "metadata": {
        "id": "2nM3g4_RMwc8"
      },
      "source": [
        "\n",
        "# Введение в обработку естественного языка\n",
        "## Создание чат-бота в Telegram\n",
        "\n",
        "Подключенная к телеграмм языковая модель на основе Bert из deeppavlov, обученная на сказках. Умеет переводить простые вопросы и отвечать на некоторые вопросы из сказок."
      ]
    },
    {
      "cell_type": "code",
      "source": [
        "!pip install --q deeppavlov"
      ],
      "metadata": {
        "id": "K9uo6vsjao0H"
      },
      "execution_count": 4,
      "outputs": []
    },
    {
      "cell_type": "code",
      "source": [
        "!python -m deeppavlov install squad_bert"
      ],
      "metadata": {
        "id": "maOb90c0cp5P",
        "colab": {
          "base_uri": "https://localhost:8080/"
        },
        "outputId": "cb99ee7f-188c-477f-8f2a-fbb38006d471"
      },
      "execution_count": 5,
      "outputs": [
        {
          "output_type": "stream",
          "name": "stdout",
          "text": [
            "Requirement already satisfied: torch<1.14.0,>=1.6.0 in /usr/local/lib/python3.10/dist-packages (1.13.1)\n",
            "Requirement already satisfied: typing-extensions in /usr/local/lib/python3.10/dist-packages (from torch<1.14.0,>=1.6.0) (4.5.0)\n",
            "Requirement already satisfied: nvidia-cuda-runtime-cu11==11.7.99 in /usr/local/lib/python3.10/dist-packages (from torch<1.14.0,>=1.6.0) (11.7.99)\n",
            "Requirement already satisfied: nvidia-cudnn-cu11==8.5.0.96 in /usr/local/lib/python3.10/dist-packages (from torch<1.14.0,>=1.6.0) (8.5.0.96)\n",
            "Requirement already satisfied: nvidia-cublas-cu11==11.10.3.66 in /usr/local/lib/python3.10/dist-packages (from torch<1.14.0,>=1.6.0) (11.10.3.66)\n",
            "Requirement already satisfied: nvidia-cuda-nvrtc-cu11==11.7.99 in /usr/local/lib/python3.10/dist-packages (from torch<1.14.0,>=1.6.0) (11.7.99)\n",
            "Requirement already satisfied: setuptools in /usr/local/lib/python3.10/dist-packages (from nvidia-cublas-cu11==11.10.3.66->torch<1.14.0,>=1.6.0) (67.7.2)\n",
            "Requirement already satisfied: wheel in /usr/local/lib/python3.10/dist-packages (from nvidia-cublas-cu11==11.10.3.66->torch<1.14.0,>=1.6.0) (0.42.0)\n",
            "Ignoring transformers: markers 'python_version < \"3.8\"' don't match your environment\n",
            "Requirement already satisfied: transformers==4.30.0 in /usr/local/lib/python3.10/dist-packages (4.30.0)\n",
            "Requirement already satisfied: filelock in /usr/local/lib/python3.10/dist-packages (from transformers==4.30.0) (3.9.1)\n",
            "Requirement already satisfied: huggingface-hub<1.0,>=0.14.1 in /usr/local/lib/python3.10/dist-packages (from transformers==4.30.0) (0.19.4)\n",
            "Requirement already satisfied: numpy>=1.17 in /usr/local/lib/python3.10/dist-packages (from transformers==4.30.0) (1.23.5)\n",
            "Requirement already satisfied: packaging>=20.0 in /usr/local/lib/python3.10/dist-packages (from transformers==4.30.0) (23.2)\n",
            "Requirement already satisfied: pyyaml>=5.1 in /usr/local/lib/python3.10/dist-packages (from transformers==4.30.0) (6.0.1)\n",
            "Requirement already satisfied: regex!=2019.12.17 in /usr/local/lib/python3.10/dist-packages (from transformers==4.30.0) (2023.6.3)\n",
            "Requirement already satisfied: requests in /usr/local/lib/python3.10/dist-packages (from transformers==4.30.0) (2.31.0)\n",
            "Requirement already satisfied: tokenizers!=0.11.3,<0.14,>=0.11.1 in /usr/local/lib/python3.10/dist-packages (from transformers==4.30.0) (0.13.3)\n",
            "Requirement already satisfied: safetensors>=0.3.1 in /usr/local/lib/python3.10/dist-packages (from transformers==4.30.0) (0.4.1)\n",
            "Requirement already satisfied: tqdm>=4.27 in /usr/local/lib/python3.10/dist-packages (from transformers==4.30.0) (4.64.1)\n",
            "Requirement already satisfied: fsspec>=2023.5.0 in /usr/local/lib/python3.10/dist-packages (from huggingface-hub<1.0,>=0.14.1->transformers==4.30.0) (2023.6.0)\n",
            "Requirement already satisfied: typing-extensions>=3.7.4.3 in /usr/local/lib/python3.10/dist-packages (from huggingface-hub<1.0,>=0.14.1->transformers==4.30.0) (4.5.0)\n",
            "Requirement already satisfied: charset-normalizer<4,>=2 in /usr/local/lib/python3.10/dist-packages (from requests->transformers==4.30.0) (3.3.2)\n",
            "Requirement already satisfied: idna<4,>=2.5 in /usr/local/lib/python3.10/dist-packages (from requests->transformers==4.30.0) (3.6)\n",
            "Requirement already satisfied: urllib3<3,>=1.21.1 in /usr/local/lib/python3.10/dist-packages (from requests->transformers==4.30.0) (2.0.7)\n",
            "Requirement already satisfied: certifi>=2017.4.17 in /usr/local/lib/python3.10/dist-packages (from requests->transformers==4.30.0) (2023.11.17)\n"
          ]
        }
      ]
    },
    {
      "cell_type": "code",
      "source": [
        "from deeppavlov import configs, build_model\n",
        "\n",
        "model = build_model(configs.squad.squad_bert, download=True)"
      ],
      "metadata": {
        "colab": {
          "base_uri": "https://localhost:8080/"
        },
        "id": "w9QoDiTFb2qF",
        "outputId": "b99767ee-ce44-437d-da05-65ff003a573f"
      },
      "execution_count": 6,
      "outputs": [
        {
          "output_type": "stream",
          "name": "stderr",
          "text": [
            "2023-12-12 20:10:36.47 INFO in 'deeppavlov.download'['download'] at line 138: Skipped http://files.deeppavlov.ai/v1/squad/squad_torch_bert_cased.tar.gz download because of matching hashes\n",
            "INFO:deeppavlov.download:Skipped http://files.deeppavlov.ai/v1/squad/squad_torch_bert_cased.tar.gz download because of matching hashes\n",
            "Some weights of the model checkpoint at bert-base-cased were not used when initializing BertForQuestionAnswering: ['cls.seq_relationship.bias', 'cls.predictions.bias', 'cls.predictions.transform.LayerNorm.weight', 'cls.seq_relationship.weight', 'cls.predictions.transform.LayerNorm.bias', 'cls.predictions.transform.dense.weight', 'cls.predictions.transform.dense.bias']\n",
            "- This IS expected if you are initializing BertForQuestionAnswering from the checkpoint of a model trained on another task or with another architecture (e.g. initializing a BertForSequenceClassification model from a BertForPreTraining model).\n",
            "- This IS NOT expected if you are initializing BertForQuestionAnswering from the checkpoint of a model that you expect to be exactly identical (initializing a BertForSequenceClassification model from a BertForSequenceClassification model).\n",
            "Some weights of BertForQuestionAnswering were not initialized from the model checkpoint at bert-base-cased and are newly initialized: ['qa_outputs.bias', 'qa_outputs.weight']\n",
            "You should probably TRAIN this model on a down-stream task to be able to use it for predictions and inference.\n",
            "2023-12-12 20:10:56.617 WARNING in 'deeppavlov.core.models.torch_model'['torch_model'] at line 96: Unable to place component TorchTransformersSquad on GPU, since no CUDA GPUs are available. Using CPU.\n",
            "WARNING:deeppavlov.core.models.torch_model:Unable to place component TorchTransformersSquad on GPU, since no CUDA GPUs are available. Using CPU.\n"
          ]
        }
      ]
    },
    {
      "cell_type": "code",
      "source": [
        "text = open('/content/THE FISHERMAN AND THE GOLDFISH - SOVIET CHILDREN\\'S BOOK_djvu.txt', 'rb').read().decode(encoding='cp1251')\n",
        "text = ' '.join(text.split())\n",
        "print(text)"
      ],
      "metadata": {
        "colab": {
          "base_uri": "https://localhost:8080/"
        },
        "id": "KcCSckqgc2Rd",
        "outputId": "06d7c82b-8630-4690-d1cb-1e1f78c3b5d6"
      },
      "execution_count": 7,
      "outputs": [
        {
          "output_type": "stream",
          "name": "stdout",
          "text": [
            "A.PUSHKIN THE FISHERMAN AND THE GOLDFISH ~<V вЂў > A. PUSHKIN THE FISHERMAN AND THE GOLDFISH MK 'AVMmwl mm wm There once lived an old man and his goodwife On the shore of the deep blue ocean; They lived in a tumble-down hovel For thirty-three summers and winters. The old man used to fish for his living, And his wife spun yarn on her distaff. He once cast his net in the ocean, And pulled it up with mud from the bottom; He again cast his net in the ocean, And this time caught nothing but seaweed; When he cast his net for the third time, One fish was all that he landed, No common fish, though, but a goldfish. Now the goldfish began to implore him, And it spoke like a real human being: вЂњPut me back, old man, into the oceanвЂ” I will pay you a right royal ransom, I will give you whatever you ask me.вЂќ The old man was astonished and frightenedвЂ” HeвЂ™d been fishing for thirty-three summers, But had not heard of any fish talking. So with care he untangled the goldfish And tenderly said as he did so: вЂњGod bless you, my dear little goldfish! Thank you kindly, I donвЂ™t want your ransom. Go back to your home in the ocean, And roam where you will without hindrance.вЂќ To his wife the old fisherman hastened To tell her about this great marvel. вЂњI caught only one fish this morningвЂ” A goldfish it was, most uncommon; It spoke like a Christian, and begged me To put it back into the ocean, And promised to pay a rich ransom, To give me whatever I asked for. But how could I ask for a ransom? I released it without any payment.вЂќ His wife started scolding her husband: вЂњOh you simpleton! Oh you great silly! CouldnвЂ™t make a mere fish pay a ransom! You at least might have asked for a wash-tubвЂ” For ours is all falling to pieces! 4 The old man returned to the seashore, Where the blue waves were frolicking lightly. He called out aloud for the goldfish, And the goldfish swam up and demanded: вЂњWhat is it, old man, you are wanting?вЂќ With a bow, the old man said in answer: вЂњForgive me, Your Majesty Goldfish! My old woman has scolded me roundlyвЂ” WonвЂ™t leave me alone for a minute, She says that she wants a new wash-tub, For ours is all falling to pieces.вЂќ The goldfish murmured in answer: вЂњDo not worry, go home, God be with youвЂ” Very well, you shall have a new wash-tub.вЂќ To his wife the old fisherman hastened, And beholdвЂ”there it was, the new wash-tub. But she scolded him louder than ever: вЂњOh you simpleton! Oh you great silly! To ask for a tubвЂ”a mere wash-tub! What good can you get from a wash-tub? Return to the goldfish, you silly, Bow down low and ask for a cottage.вЂќ (5 Again he went back to the seashore, And this time the blue sea was troubled. He called out aloud for the goldfish, And the goldfish swam up and demanded: вЂњWhat is it, old man, you are wanting?вЂќ With a bow, the old man said in answer: вЂњForgive me, Your Majesty Goldfish! My old woman is angrier than ever, WonвЂ™t leave me alone for a minuteвЂ” The old scold says she wants a new cottage.вЂќ The goldfish murmured in answer: вЂњDo not worry, go home, God be with you! So be it! YouвЂ™ll have a new cottage! вЂќ So back the old man turned his footsteps; Not a sign did he see of his hovel. In its place stood a new gabled cottage, With a chimney of brick, newly whitewashed, A fence with oak gates stood around it; And there sat his wife at a window; When she saw him, she scolded him roundly: вЂњOh you simpleton! Oh you great silly! To ask for no more than a cottage! Go and bow to the goldfish, and tell it That IвЂ™m tired of being a peasant, That I want to be made a fine lady.вЂќ 8 The old man then returned to the seashore, Where the ocean was restlessly foaming, He called out aloud for the goldfish. The goldfish swam up and demanded: вЂњWhat is it, old man, you are wanting?вЂќ With a bow, the old man said in answer: вЂњForgive me, Your Majesty Goldfish! My old woman is madder than ever, She gives me no rest for a second, Says sheвЂ™s tired of being a peasant, And wants to be made a fine lady.вЂќ The goldfish murmured in answer: вЂњDo not worry, go home, God be with you. Very well, a fine lady she shall be.вЂќ To his wife the old fisherman hastened. And what did he see?-a tall mansion; On its white marble stairsвЂ”his old woman. She was wearing a rich sable jacket, And a head-dress, in gold all embroidered; Her neck was with pearls heavy laden; She wore golden rings on her fingers; She was shod in the softest red leather; Zealous servants bowed meekly before her, As she cuffed them and rated them roundly. The old man then approached his wife, saying: вЂњGreetings, your ladyship, greetings, fine lady! Now I hope that your soul is contented! вЂќ She angrily bade him be silent And sent him to serve in the stables. 10 First a week slowly passed, then another, The old woman grew prouder than ever. One morning she sent for her husband, And said: вЂњBow to the goldfish and tell it I am tired of being a lady, And I want to be made a Tsaritsa.вЂќ Her husband implored her in terror, Saying: вЂњWoman-youвЂ™ve surely gone crazy! You canвЂ™t even talk like a lady! YouвЂ™d be mocked at all over the kingdom! вЂќ His old woman grew madder than ever, Slapped his face and then shouted in passion: вЂњHow dare you, muzhik, stand and argue, Stand and argue with me, a fine lady? Go at onceвЂ”if you donвЂ™t, then I warn you, YouвЂ™ll be dragged to the shore, willy-nilly.вЂќ The old man went down to the seashore (The ocean was swollen and sullen). He called out aloud for the goldfish, And the goldfish swam up and demanded: вЂњWhat is it, old man, you are wanting?вЂќ With a bow, the old man said in answer: вЂњForgive me, Your Majesty Goldfish! Again my old womanвЂ™s gone crazy! Now sheвЂ™s tired of being a lady! She wants to be made a Tsaritsa.вЂќ The goldfish murmured in answer: вЂњDo not worry, go home, God be with you! Very well! She shall be a Tsaritsa! в– iUrTV -1 1 lt . ! j V J&jf l V / v / _J i tin B ' il ml T _ Ir i/ jВ« g yrCo sijb'i vy , I To his wife the old fisherman hastened, And what did he see? A grand palace; In the palace he saw his old woman, At the table she sat, a Tsaritsa, Attended by nobles and boyards; They were pouring choice wines in her goblet, She was nibbling sweet gingerbread wafers; Around her, grim guards stood in silence, With halberds upon their broad shoulders. The old man was aghast when he saw this, He bowed to her feet and said humbly: вЂњGreetings, Oh mighty Tsaritsa! Now I hope that your soul is contented! вЂќ l.i But she gave not a glance at her husbandвЂ” She ordered him thrust from her presence. The boyards and nobles all hastened And drove him with blows from the chamber; The guards at the door waved their halberds And threatened to cut him to pieces. All the people derided him, saying: вЂњServes you right, now, you ill-bred old fellow. You churl-this will teach you a lesson To keep to your station in future! First a week slowly passed, then another; The old woman grew prouder than ever. She sent for her husband one morning, l'. And her chamberlain haled him before her. The old woman spoke thus to her husband: вЂњGo, bow to the goldfish, and tell it That IвЂ™m tired of being Tsaritsa, Of the seas I want to be mistress, With my home in the blue ocean waters; The goldfish I want for my servant To do my commands and my errands.вЂќ The old man durst not contradict her, Nor open his lips to make answer. He sadly set out for the seashore. A tempest raged over the ocean, Its waters were swollen and angry, Its billows were boiling with fury. He called out aloud for the goldfish. The goldfish swam up and demanded: вЂњWhat is it, old man, you are wanting?вЂќ With a bow, the old man said in answer: вЂњForgive me, Your Majesty Goldfish! What shall I do with my cursed old woman? She is tired of being Tsaritsa, Of the seas she now wants to be mistress, With her home in the blue ocean waters; She wants you to be her own servant, To do her commands and her errands.вЂќ Not a word spoke the goldfish in answer, It just swished its tail, and in silence вЂў Disappeared in the depths of the ocean. He waited in vain for an answer, And at last turned his steps to the palace; And beholdвЂ”there again stood his hovel; On the doorstep sat his old woman, With the same broken wash-tub before her. Translated from the Russian by Louis Zelikoff Illustrated by B. Dekhteryov WOGRtSSPUBLISHERS <вЂ™вЂў' ,> ; t. MOSCOW ; a. nywKHH CKA3KA O PWBART H PtIBKH Ha am/utucKOM jt3biKe First printing 1958 Second printing 1969 Third printing 1973 . V . Fourth' printing 1980 r yuA. 70802-232 016(01)-80 127-80 Milled in the Onion of Soviet Socialist Republics\n"
          ]
        }
      ]
    },
    {
      "cell_type": "code",
      "source": [
        "!pip install -U sacremoses"
      ],
      "metadata": {
        "colab": {
          "base_uri": "https://localhost:8080/"
        },
        "id": "Fbks0whCku8R",
        "outputId": "310a1c2d-fe63-4a35-aa8c-e0cf27be9adc"
      },
      "execution_count": 8,
      "outputs": [
        {
          "output_type": "stream",
          "name": "stdout",
          "text": [
            "Requirement already satisfied: sacremoses in /usr/local/lib/python3.10/dist-packages (0.1.1)\n",
            "Requirement already satisfied: regex in /usr/local/lib/python3.10/dist-packages (from sacremoses) (2023.6.3)\n",
            "Requirement already satisfied: click in /usr/local/lib/python3.10/dist-packages (from sacremoses) (8.1.7)\n",
            "Requirement already satisfied: joblib in /usr/local/lib/python3.10/dist-packages (from sacremoses) (1.3.2)\n",
            "Requirement already satisfied: tqdm in /usr/local/lib/python3.10/dist-packages (from sacremoses) (4.64.1)\n"
          ]
        }
      ]
    },
    {
      "cell_type": "code",
      "source": [
        "from transformers import FSMTForConditionalGeneration, FSMTTokenizer\n",
        "\n",
        "en_ru = \"facebook/wmt19-en-ru\"\n",
        "tokenizer_ru = FSMTTokenizer.from_pretrained(en_ru)\n",
        "to_ru = FSMTForConditionalGeneration.from_pretrained(en_ru)\n",
        "\n",
        "ru_en = \"facebook/wmt19-ru-en\"\n",
        "tokenizer_en = FSMTTokenizer.from_pretrained(ru_en)\n",
        "to_en = FSMTForConditionalGeneration.from_pretrained(ru_en)\n",
        "\n",
        "def translation(text, model, tokenizer):\n",
        "    input_ids = tokenizer.encode(text, return_tensors=\"pt\")\n",
        "    outputs = model.generate(input_ids)\n",
        "    decoded = tokenizer.decode(outputs[0], skip_special_tokens=True)\n",
        "\n",
        "    return decoded"
      ],
      "metadata": {
        "id": "hOGR7nI4n1lP"
      },
      "execution_count": 9,
      "outputs": []
    },
    {
      "cell_type": "code",
      "source": [
        "model(['DeepPavlov is a library for NLP and dialog systems.'], ['What is DeepPavlov?'])"
      ],
      "metadata": {
        "colab": {
          "base_uri": "https://localhost:8080/"
        },
        "id": "ubdI7CMVq-Rq",
        "outputId": "e3e75b0d-8a8a-43a5-f495-95cafedf4b94"
      },
      "execution_count": 10,
      "outputs": [
        {
          "output_type": "execute_result",
          "data": {
            "text/plain": [
              "[['a library for NLP and dialog systems'], [14], [1.0]]"
            ]
          },
          "metadata": {},
          "execution_count": 10
        }
      ]
    },
    {
      "cell_type": "code",
      "source": [
        "model([text], ['Who is author?'])"
      ],
      "metadata": {
        "colab": {
          "base_uri": "https://localhost:8080/"
        },
        "id": "AIpyxCvQVGh8",
        "outputId": "fd37cf6f-336f-4071-e56a-6ad0ef571259"
      },
      "execution_count": 11,
      "outputs": [
        {
          "output_type": "stream",
          "name": "stderr",
          "text": [
            "Token indices sequence length is longer than the specified maximum sequence length for this model (2263 > 512). Running this sequence through the model will result in indexing errors\n"
          ]
        },
        {
          "output_type": "execute_result",
          "data": {
            "text/plain": [
              "[['Louis Zelikoff'], [883], [1.0]]"
            ]
          },
          "metadata": {},
          "execution_count": 11
        }
      ]
    },
    {
      "cell_type": "code",
      "source": [
        "s = 'Кто автор?'\n",
        "translation(s, to_en, tokenizer_en)"
      ],
      "metadata": {
        "colab": {
          "base_uri": "https://localhost:8080/",
          "height": 90
        },
        "id": "ZpsjF5GWVqok",
        "outputId": "c80dea15-d16c-4468-f4f8-b8d7270f7988"
      },
      "execution_count": 12,
      "outputs": [
        {
          "output_type": "stream",
          "name": "stderr",
          "text": [
            "/usr/local/lib/python3.10/dist-packages/transformers/generation/utils.py:1353: UserWarning: Using `max_length`'s default (200) to control the generation length. This behaviour is deprecated and will be removed from the config in v5 of Transformers -- we recommend using `max_new_tokens` to control the maximum length of the generation.\n",
            "  warnings.warn(\n"
          ]
        },
        {
          "output_type": "execute_result",
          "data": {
            "text/plain": [
              "'Who is the author?'"
            ],
            "application/vnd.google.colaboratory.intrinsic+json": {
              "type": "string"
            }
          },
          "metadata": {},
          "execution_count": 12
        }
      ]
    },
    {
      "cell_type": "code",
      "source": [
        "model([text], [translation(s, to_en, tokenizer_en)])"
      ],
      "metadata": {
        "colab": {
          "base_uri": "https://localhost:8080/"
        },
        "id": "BbbwD0pEWZw7",
        "outputId": "e1a8368b-d0c0-4e49-832e-cbe37cf9fd64"
      },
      "execution_count": 13,
      "outputs": [
        {
          "output_type": "execute_result",
          "data": {
            "text/plain": [
              "[['Louis Zelikoff'], [883], [1.0]]"
            ]
          },
          "metadata": {},
          "execution_count": 13
        }
      ]
    },
    {
      "cell_type": "code",
      "source": [
        "model([text], [translation('Почему разгневалась рыбка?', to_en, tokenizer_en)])"
      ],
      "metadata": {
        "colab": {
          "base_uri": "https://localhost:8080/"
        },
        "id": "fMHKeadkWgqq",
        "outputId": "e020b7cb-2a79-47fb-9d17-c579cf89c994"
      },
      "execution_count": 14,
      "outputs": [
        {
          "output_type": "execute_result",
          "data": {
            "text/plain": [
              "[['Its billows'], [67], [1.0]]"
            ]
          },
          "metadata": {},
          "execution_count": 14
        }
      ]
    },
    {
      "cell_type": "code",
      "source": [
        "model([text], [translation('Чем закончилась сказка?', to_en, tokenizer_en)])"
      ],
      "metadata": {
        "colab": {
          "base_uri": "https://localhost:8080/"
        },
        "id": "fJWsbInJWqdF",
        "outputId": "e205b77f-b2a8-4e58-cef0-b32176a0a4d4"
      },
      "execution_count": 15,
      "outputs": [
        {
          "output_type": "execute_result",
          "data": {
            "text/plain": [
              "[['He sadly set out for the seashore'], [954], [0.9999879002571106]]"
            ]
          },
          "metadata": {},
          "execution_count": 15
        }
      ]
    },
    {
      "cell_type": "code",
      "source": [
        "model([text], [translation('Что было разбито?', to_en, tokenizer_en)])"
      ],
      "metadata": {
        "colab": {
          "base_uri": "https://localhost:8080/"
        },
        "id": "DnP1vzkLWyTf",
        "outputId": "8440bf5d-72c6-4b45-adef-6b905f74c13f"
      },
      "execution_count": 16,
      "outputs": [
        {
          "output_type": "execute_result",
          "data": {
            "text/plain": [
              "[['wash-tub'], [831], [1.0]]"
            ]
          },
          "metadata": {},
          "execution_count": 16
        }
      ]
    },
    {
      "cell_type": "code",
      "source": [
        "o_t = model([text], [translation('Что было разбито?', to_en, tokenizer_en)])\n",
        "o_t[0][0]"
      ],
      "metadata": {
        "colab": {
          "base_uri": "https://localhost:8080/",
          "height": 36
        },
        "id": "Fah_Xwtit5lq",
        "outputId": "0cd0c7b7-8b21-4487-f6bb-b39f6d546ce3"
      },
      "execution_count": 17,
      "outputs": [
        {
          "output_type": "execute_result",
          "data": {
            "text/plain": [
              "'wash-tub'"
            ],
            "application/vnd.google.colaboratory.intrinsic+json": {
              "type": "string"
            }
          },
          "metadata": {},
          "execution_count": 17
        }
      ]
    },
    {
      "cell_type": "code",
      "source": [
        "translation('seaweed', to_ru, tokenizer_ru)"
      ],
      "metadata": {
        "colab": {
          "base_uri": "https://localhost:8080/",
          "height": 36
        },
        "id": "0abzgoK9W4rX",
        "outputId": "d15c5ee7-19aa-42e8-9d8c-532bfddcde70"
      },
      "execution_count": 18,
      "outputs": [
        {
          "output_type": "execute_result",
          "data": {
            "text/plain": [
              "'seaweed'"
            ],
            "application/vnd.google.colaboratory.intrinsic+json": {
              "type": "string"
            }
          },
          "metadata": {},
          "execution_count": 18
        }
      ]
    },
    {
      "cell_type": "code",
      "source": [
        "translation('food', to_ru, tokenizer_ru)"
      ],
      "metadata": {
        "colab": {
          "base_uri": "https://localhost:8080/",
          "height": 36
        },
        "id": "YwJVEWNIXx43",
        "outputId": "3e4a2772-6569-4220-8c66-585887966f16"
      },
      "execution_count": 19,
      "outputs": [
        {
          "output_type": "execute_result",
          "data": {
            "text/plain": [
              "'продовольствие'"
            ],
            "application/vnd.google.colaboratory.intrinsic+json": {
              "type": "string"
            }
          },
          "metadata": {},
          "execution_count": 19
        }
      ]
    },
    {
      "cell_type": "code",
      "source": [
        "!pip install python-telegram-bot==13.13"
      ],
      "metadata": {
        "colab": {
          "base_uri": "https://localhost:8080/"
        },
        "id": "CpHhIErojrF8",
        "outputId": "a20673b7-60ec-47fb-c426-080916f3cdc0"
      },
      "execution_count": 20,
      "outputs": [
        {
          "output_type": "stream",
          "name": "stdout",
          "text": [
            "Requirement already satisfied: python-telegram-bot==13.13 in /usr/local/lib/python3.10/dist-packages (13.13)\n",
            "Requirement already satisfied: certifi in /usr/local/lib/python3.10/dist-packages (from python-telegram-bot==13.13) (2023.11.17)\n",
            "Requirement already satisfied: tornado>=6.1 in /usr/local/lib/python3.10/dist-packages (from python-telegram-bot==13.13) (6.3.2)\n",
            "Requirement already satisfied: APScheduler==3.6.3 in /usr/local/lib/python3.10/dist-packages (from python-telegram-bot==13.13) (3.6.3)\n",
            "Requirement already satisfied: pytz>=2018.6 in /usr/local/lib/python3.10/dist-packages (from python-telegram-bot==13.13) (2023.3.post1)\n",
            "Requirement already satisfied: cachetools==4.2.2 in /usr/local/lib/python3.10/dist-packages (from python-telegram-bot==13.13) (4.2.2)\n",
            "Requirement already satisfied: setuptools>=0.7 in /usr/local/lib/python3.10/dist-packages (from APScheduler==3.6.3->python-telegram-bot==13.13) (67.7.2)\n",
            "Requirement already satisfied: six>=1.4.0 in /usr/local/lib/python3.10/dist-packages (from APScheduler==3.6.3->python-telegram-bot==13.13) (1.16.0)\n",
            "Requirement already satisfied: tzlocal>=1.2 in /usr/local/lib/python3.10/dist-packages (from APScheduler==3.6.3->python-telegram-bot==13.13) (5.2)\n"
          ]
        }
      ]
    },
    {
      "cell_type": "code",
      "source": [
        "import os\n",
        "from telegram.ext  import Updater, CommandHandler, MessageHandler, Filters, CallbackContext\n",
        "from telegram import Update"
      ],
      "metadata": {
        "id": "aZSlnd3xjaWk"
      },
      "execution_count": 21,
      "outputs": []
    },
    {
      "cell_type": "code",
      "source": [
        "list_for_fairytails = ['быль', 'миф', 'колобок', 'волшебство', 'рассказ', 'вымысел', 'андерсен', 'присказка', 'лес', 'легенда', 'сказание', 'сон', 'баба-яга', 'золотая', 'рыбка', 'небылица', 'фантазия', 'былина', 'золушка', 'красная', 'шапочка', 'чудо', 'добро', 'репка', 'иван', 'выдумка', 'ложь', 'сказ', 'история', 'волк', 'царь', 'салтан', 'морозко', 'кощей', 'конец', 'белоснежка', 'буратино', 'медведь', 'иванушка', 'богатырь', 'притча', 'лиса', 'басня', 'мечта', 'иван-царевич', 'радость', 'теремок', 'бабушка', 'жизнь', 'иван-дурак', 'мудрость', 'царевна', 'чудеса', 'правда', 'рассказчица', 'старик', 'хоттабыч', 'волшебница', 'предание', 'змей', 'горыныч', 'мультфильм', 'кот', 'ученый', 'лягушка', 'василиса', 'емеля', 'дурак', 'фильм', 'арина', 'родионовна', 'алёнушка', 'избушка', 'враньё', 'жар-птица', 'гуси-лебеди', 'рыбка', 'пушкин', 'повесть', 'волшебник', 'перо', 'конёк-горбунок', 'намёк', 'цветик-семицветик', 'ночь', 'сивка-бурка', 'садко', 'аладдин', 'аленький', 'цветочек', 'ковер-самолёт', 'русалка', 'лебеди', 'золотая', 'антилопа', 'чудовище', 'тысяча', 'и', 'одна', 'ночь', 'айболит', 'каменный', 'цветок', 'народ', 'василиса', 'премудрая', 'фольклор', 'лукоморье', 'щука', 'иванушка', 'дурачок', 'любовь', 'курочка', 'ряба', 'царь', 'снежная', 'королева', 'диво', 'рыба-кит', 'яга', 'песня', 'печка', 'руслан', 'и', 'людмила', 'явь', 'принцесса', 'конь-огонь', 'царевна-лягушка', 'дракон', 'серебряное', 'копытце', 'персонаж', 'бажов', 'синдбад', 'финист', 'маугли', 'три', 'желания', 'забава', 'царство', 'шахерезада', 'вечер', 'дремучий', 'лес', 'фэнтези', 'магия', 'заяц', 'изба', 'хороший', 'конец', 'прибаутка', 'лукошко', 'дед', 'море', 'сочинение', 'счастье', 'васнецов', 'марья', 'моревна', 'колыбель', 'вакула', 'леший', 'загадка', 'джинн', 'облака', 'повествование', 'рассказчик', 'три', 'богатыря', 'зима', 'месяц', 'гусли', 'диафильм', 'реальность', 'сказитель', 'рапунцель', 'ершов', 'мальчиш-кибальчиш', 'остров', 'буян', 'девушка', 'сирены', 'праздник', 'доброта', 'фантастика', 'девочка', 'поле', 'печь', 'феникс', 'маленький', 'принц', 'лампа', 'яблонька', 'птица', 'луна', 'русалочка', 'чиполлино', 'роща', 'дедушка', 'солоха', 'ступа', 'букварь', 'кот-баюн', 'космос', 'рыба', 'лепота', 'берёзовая', 'роща', 'царь', 'горы', 'окно', 'жанр', 'малахит', 'небосвод', 'неправда', 'придумка', 'хоромы', 'ауканье', 'небесная', 'твердь', 'тоторо', 'снегурочка', 'гоголь', 'феи', 'софия', 'ротару', 'челн', 'вязь', 'лубок', 'архетип', 'ящерки', 'гайдар', 'царевна', 'морская', 'чёрт', 'сказы', 'свиток', 'тридевятое', 'царство', 'единорог', 'кузнец', 'вакула', 'иван', 'билибин', 'изумруды', 'великан', 'маша', 'машенька', 'песнь', 'гном', 'терем', 'писатель', 'самоцветы', 'олимпийский', 'мишка', 'врубель', 'капитан', 'немо', 'детство', 'книга', 'скатерть-самобранка', 'репа', 'город', 'василиса', 'прекрасная', 'дети', 'двенадцать', 'месяцев', 'тридесятое', 'государство', 'карлсон', 'мораль', 'книжка', 'добрый', 'молодец', 'шапка-невидимка', 'скороходы', 'урок', 'три', 'толстяка', 'братья', 'гримм', 'балда', 'кот', 'сказочник', 'огниво', 'мойдодыр', 'хозяйка', 'медной', 'горы', 'синяя', 'птица', 'изумрудный', 'город', 'змей', 'эльфы', 'мачеха', 'данила-мастер', 'щелкунчик', 'красна', 'девица', 'бог', 'марья', 'тыква', 'бармалейкин', 'мультик', 'баюн', 'золотой', 'петушок', 'оловянный', 'солдатик', 'оле', 'лукойе', 'дюймовочка', 'мёртвая', 'вода', 'колобки', 'невод', 'волшебная', 'палочка', 'малахитовая', 'шкатулка', 'царевна-лебедь', 'принц', 'рай', 'ходжа', 'насреддин', 'клубок', 'алёша', 'попович', 'ночь', 'перед', 'рождеством', 'чудо-юдо', 'золотой', 'гребешок', 'золотой', 'дождь', 'петя', 'и', 'волк', 'кикимора', 'молодильные', 'яблоки', 'хрустальный', 'мост', 'мальчик-с-пальчик', 'петушок', 'пеппи', 'длинный', 'чулок', 'няня', 'эльф', 'русь', 'колдунья', 'медные', 'трубы', 'приключения', 'буратино', 'гусь', 'полюшко-поле', 'дед', 'мороз', 'ребёнок', 'былинка', 'фея', 'синяя', 'борода', 'чтение', 'настя', 'зурбаган', 'раскраска', 'грусть', 'водяной', 'скороход', 'дерево', 'хоббит', 'серый', 'волк', 'сюжет', 'зло', 'питер', 'пэн', 'соловей-разбойник', 'али-баба', 'муха-цокотуха', 'сказочность', 'поучение', 'гномик', 'нибиру', 'помидор', 'библия', 'старуха', 'иллюзия', 'замок', 'сусеки', 'кино', 'окошко', 'борода', 'дереза', 'индия', 'конёк', 'бессмертие', 'воображение', 'дубрава', 'русалки', 'гуси', 'зеркало', 'меч-кладенец', 'кривда', 'ведьма', 'чеширский', 'кот', 'невидаль', 'александр', 'роу', 'странствия', 'лилипут', 'иносказание', 'чудище', 'морское', 'квакушка', 'мышка-норушка', 'чуковский', 'дурачок', 'оконце', 'иван-да-марья', 'богатыри', 'чародей', 'судьба', 'алиса', 'полумесяц', 'девицы', 'медная', 'гора', 'детский', 'мир', 'марья-искусница', 'дудочка', 'страшила', 'лошадки', 'спящая', 'красавица', 'несмеяна', 'жучка', 'белка', 'огневушка-поскакушка', 'медный', 'всадник', 'семь', 'гномов', 'живая', 'вода', 'алиса', 'в', 'стране', 'чудес', 'ряба', 'корыто', 'тайга', 'подснежники', 'рыбак', 'семицветик', 'гарри', 'поттер', 'колодец', 'смазка', 'винни-пух', 'предисловие', 'обыкновенное', 'чудо', 'бабайка', 'китеж-град']\n",
        "list_for_weather = ['грязь', 'явление', 'радуга', 'порыв', 'ветра', 'осень', 'лужа', 'сводка', 'дом', 'снегопад', 'антициклон', 'гром', 'студень', 'пляж', 'тихий', 'океан', 'заклинатель', 'воздух', 'религия', 'непредсказуемость', 'неизбежность', 'паводки', 'стекло', 'станция', 'цельсий', 'плюс', 'сырость', 'раскаты', 'грома', 'питер', 'пурга', 'похолодание', 'аномалия', 'зонд', 'засада', 'утро', 'ливень', 'равноденствие', 'время', 'года', 'примета', 'стриж', 'направление', 'вологда', 'слонёнок', 'весна', 'фобос', 'флюгер', 'говно', 'облачка', 'отношения', 'клёв', 'суровость', 'хмурость', 'прояснение', 'раскаты', 'метеостанция', 'тучка', 'зима', 'мелодекламация', 'дневник', 'май', 'велосипед', 'крым', 'чёрное', 'море', 'зной', 'яндекс', 'состояние', 'туча', 'небесная', 'канцелярия', 'октябрь', 'реклама', 'мчс', 'воскресенье', 'заморозки', 'ноябрь', 'жизнь', 'ветреность', 'пейзаж', 'климатология', 'ягода', 'видимость', 'обстановка', 'погода','солнечно', 'осадка', 'дождь', 'снег', 'ливень', 'зонт', 'прогноз', 'дождь', 'природа', 'ветер', 'климат', 'холод', 'гидрометцентр', 'настроение', 'ясность', 'тучи', 'осадки', 'море', 'облачность', 'атмосфера', 'непогода', 'переменчивость', 'зонт', 'снег', 'солнце', 'лето', 'ненастье', 'синоптик', 'слякоть', 'синоптики', 'температура', 'циклон', 'туман', 'метеорология', 'пагода', 'жара', 'облако', 'новости', 'небо', 'облака', 'штиль', 'изменчивость', 'условия', 'мороз', 'пасмурность', 'перемена', 'вероятность', 'прогулка', 'благодать', 'сезон', 'улица', 'прогнозы', 'градус', 'метеоролог', 'гроза', 'термометр', 'непрогнозируемость', 'барометр', 'градусник', 'переменная', 'тепло', 'зонтик', 'шторм', 'давление', 'ведро', 'долина', 'умиротворение', 'грусть', 'вёдра', 'интерферон', 'тучность', 'изморось', 'евро', 'туманность', 'метель', 'телетекст', 'поле', 'полёт', 'чайковский', 'потепление', 'днепр', 'морепродукт', 'диктор', 'дворник', 'дерьмо', 'смерч', 'солнечность', 'тайфун', 'мир', 'капель', 'дым', 'день', 'перемены', 'праздник', 'мода']\n",
        "list_for_translation = ['перевод', 'интерпритировать', 'транслировать', 'преобрзование', 'язык', 'деньги', 'гоблин', 'словарь', 'переводчик', 'транскрипция', 'интерпретация', 'значение', 'конвертация', 'трансляция', 'банк', 'подстрочник', 'часы', 'английский', 'язык', 'транзакция', 'стрелка', 'работа', 'трудность', 'стрелки', 'трудности', 'субтитры', 'иностранец', 'управленец', 'перенос', 'вестерн', 'правило', 'слово', 'интерпретатор', 'гипертекст', 'пиркод', 'счисление', 'толмач', 'почта', 'транслитерация', 'место', 'жительства', 'зачёт', 'ну', 'погоди', 'труд', 'приход', 'трансфер', 'корректура', 'транзит', 'гранж', 'увольнение', 'уточнение', 'языки', 'бухгалтерия', 'иностранный', 'язык', 'толкование', 'юла', 'интернет', 'квартплата', 'покемон', 'текст', 'русификация', 'титры', 'адаптация', 'сложности', 'искусство', 'мера', 'штамп', 'трапеция', 'расход', 'транслятор', 'стрелочник', 'иврит', 'оригинал', 'литерация', 'объяснение', 'транс', 'фильм', 'измерение', 'сублимация', 'речь', 'озвучка', 'синхрон', 'понимание', 'перенаправление', 'синхронист', 'дубляж']"
      ],
      "metadata": {
        "id": "z6TVwlyAX-Ro"
      },
      "execution_count": 3,
      "outputs": []
    },
    {
      "cell_type": "code",
      "source": [
        "def is_in_list(text, list):\n",
        "    for word in text:\n",
        "        if word in list:\n",
        "            return True\n",
        "    return False"
      ],
      "metadata": {
        "id": "tT8rrDR_hXjJ"
      },
      "execution_count": 22,
      "outputs": []
    },
    {
      "cell_type": "code",
      "source": [
        "import re\n",
        "\n",
        "def is_english(text):\n",
        "    return bool(re.search(r'[a-zA-Z]', text))"
      ],
      "metadata": {
        "id": "HtuL9aggjG2F"
      },
      "execution_count": 23,
      "outputs": []
    },
    {
      "cell_type": "code",
      "source": [
        "updater = Updater(token='6302652675:AAHGhGzAQGV5u8kFN49g9JdNp_cZQJ4BzfI')\n",
        "dispatcher = updater.dispatcher"
      ],
      "metadata": {
        "id": "om-4z0oljMqO"
      },
      "execution_count": 26,
      "outputs": []
    },
    {
      "cell_type": "code",
      "source": [
        "def startCommand(update: Update, context: CallbackContext):\n",
        "    update.message.reply_text('Привет!\\nЯ ботик (простой и очень глупый бот).\\nЕсли надо, я могу пообщаться о сказках, только прошу снисхождения, я очень плохо в них разбираюсь, перевести простые предложения с английского на русский и обратно и рассказать о погоде.\\nПоехали?')\n",
        "\n",
        "def stopCommand(update: Update, context: CallbackContext):\n",
        "    update.message.reply_text('Пока')"
      ],
      "metadata": {
        "id": "Wcl5rZDck9Zk"
      },
      "execution_count": 27,
      "outputs": []
    },
    {
      "cell_type": "code",
      "source": [
        "def textMessage(update: Update, context: CallbackContext):\n",
        "    input = update.message.text\n",
        "    if is_english(input):#update.message.text):\n",
        "        update.message.reply_text(translation(input, to_ru, tokenizer_ru) + 'is_english' + input) # update.message.text\n",
        "\n",
        "    elif is_in_list(input, list_for_translation):\n",
        "        print('ru_en' + input)\n",
        "        update.message.reply_text(translation(update.message.text, to_en, tokenizer_en) + 'list_from_translation' + input)\n",
        "\n",
        "    elif is_in_list(input, list_for_fairytails):\n",
        "        update.message.reply_text('Прошу учесть мои скромные возможности и выбирать наиболее известные сказки и понимать, что даже самые известные сказки я знаю не все. Какую сказку хотите обсудить?')\n",
        "        input = update.message.text\n",
        "        for word in input.split():\n",
        "          file_name, hope = get_tail(word)\n",
        "          if hope:\n",
        "            text = open(file_name, 'rb').read().decode(encoding='cp1251')\n",
        "            text = ' '.join(text.split())\n",
        "            break\n",
        "        if file_name == 'Облом':\n",
        "            update.message.reply_text(file_name + ', я не знаю такой сказки...')\n",
        "        else:\n",
        "          input = update.message.text\n",
        "          update.message.reply_text('Отлично! Можно попробовать обсудить эту сказку. Готов лицезреть вопрос.' + input)\n",
        "        output = model([text], [translation(input, to_en, tokenizer_en)])\n",
        "        update.message.reply_text(translation(output[0][0], to_ru, tokenizer_ru))\n",
        "    else:\n",
        "      update.message.reply_text('Что-то я совсем глуп. Можно отдохнуть?' + input)\n",
        "\n",
        "    return"
      ],
      "metadata": {
        "id": "2JLm3-x-ldCx"
      },
      "execution_count": 28,
      "outputs": []
    },
    {
      "cell_type": "code",
      "source": [
        "def get_tail(word):\n",
        "  for root, dirs, files in os.walk('/content'):\n",
        "    for names in files:\n",
        "        if word.lower() in names.lower():\n",
        "             return os.path.join(root, names), True\n",
        "  return 'Облом', False"
      ],
      "metadata": {
        "id": "e7fTGueApR1H"
      },
      "execution_count": 29,
      "outputs": []
    },
    {
      "cell_type": "code",
      "source": [
        "dispatcher.add_handler(CommandHandler(\"start\", startCommand))\n",
        "dispatcher.add_handler(CommandHandler(\"stop\", stopCommand))\n",
        "dispatcher.add_handler(MessageHandler(Filters.text & ~Filters.command, textMessage))\n",
        "\n",
        "updater.start_polling()\n",
        "updater.idle()"
      ],
      "metadata": {
        "id": "MmURItg2pq4P",
        "colab": {
          "base_uri": "https://localhost:8080/"
        },
        "outputId": "b8abc640-a0aa-4bca-e09c-a578108955e2"
      },
      "execution_count": 30,
      "outputs": [
        {
          "output_type": "stream",
          "name": "stderr",
          "text": [
            "ERROR:telegram.ext.dispatcher:No error handlers are registered, logging exception.\n",
            "Traceback (most recent call last):\n",
            "  File \"/usr/local/lib/python3.10/dist-packages/telegram/ext/dispatcher.py\", line 557, in process_update\n",
            "    handler.handle_update(update, self, check, context)\n",
            "  File \"/usr/local/lib/python3.10/dist-packages/telegram/ext/handler.py\", line 199, in handle_update\n",
            "    return self.callback(update, context)\n",
            "  File \"<ipython-input-28-1f4718c6c075>\", line 24, in textMessage\n",
            "    output = model([text], [translation(input, to_en, tokenizer_en)])\n",
            "UnboundLocalError: local variable 'text' referenced before assignment\n"
          ]
        }
      ]
    }
  ],
  "metadata": {
    "colab": {
      "provenance": []
    },
    "kernelspec": {
      "display_name": "Python 3",
      "name": "python3"
    },
    "language_info": {
      "name": "python"
    }
  },
  "nbformat": 4,
  "nbformat_minor": 0
}