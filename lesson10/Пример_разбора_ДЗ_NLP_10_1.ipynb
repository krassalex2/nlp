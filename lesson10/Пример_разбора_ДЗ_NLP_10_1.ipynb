{
  "nbformat": 4,
  "nbformat_minor": 0,
  "metadata": {
    "accelerator": "GPU",
    "colab": {
      "provenance": []
    },
    "kernelspec": {
      "display_name": "Python 3",
      "name": "python3"
    }
  },
  "cells": [
    {
      "cell_type": "markdown",
      "source": [
        "## ДЗ  \n",
        "Разобраться с моделькой перевода (без механизма внимания) как она устроена, запустить для перевода с русского на английский (при желании можно взять другие пары языков)"
      ],
      "metadata": {
        "id": "4sbtjVDVvSzO"
      }
    },
    {
      "cell_type": "markdown",
      "metadata": {
        "id": "J0Qjg6vuaHNt"
      },
      "source": [
        "# Neural machine translation"
      ]
    },
    {
      "cell_type": "code",
      "metadata": {
        "id": "tnxXKDjq3jEL"
      },
      "source": [
        "import tensorflow as tf\n",
        "\n",
        "import matplotlib.pyplot as plt\n",
        "import matplotlib.ticker as ticker\n",
        "from sklearn.model_selection import train_test_split\n",
        "\n",
        "import unicodedata\n",
        "import re\n",
        "import numpy as np\n",
        "import os\n",
        "import io\n",
        "import time"
      ],
      "execution_count": 1,
      "outputs": []
    },
    {
      "cell_type": "markdown",
      "metadata": {
        "id": "wfodePkj3jEa"
      },
      "source": [
        "## Download and prepare the dataset\n",
        "\n",
        "We'll use a language dataset provided by http://www.manythings.org/anki/"
      ]
    },
    {
      "cell_type": "code",
      "metadata": {
        "id": "CNvjhDyAKk3U",
        "colab": {
          "base_uri": "https://localhost:8080/"
        },
        "outputId": "c6203f32-01bb-4536-8276-d2c290f42098"
      },
      "source": [
        "!wget http://www.manythings.org/anki/rus-eng.zip"
      ],
      "execution_count": 2,
      "outputs": [
        {
          "output_type": "stream",
          "name": "stdout",
          "text": [
            "--2023-11-22 21:11:01--  http://www.manythings.org/anki/rus-eng.zip\n",
            "Resolving www.manythings.org (www.manythings.org)... 173.254.30.110\n",
            "Connecting to www.manythings.org (www.manythings.org)|173.254.30.110|:80... connected.\n",
            "HTTP request sent, awaiting response... 200 OK\n",
            "Length: 15824155 (15M) [application/zip]\n",
            "Saving to: ‘rus-eng.zip’\n",
            "\n",
            "rus-eng.zip         100%[===================>]  15.09M  68.8MB/s    in 0.2s    \n",
            "\n",
            "2023-11-22 21:11:01 (68.8 MB/s) - ‘rus-eng.zip’ saved [15824155/15824155]\n",
            "\n"
          ]
        }
      ]
    },
    {
      "cell_type": "code",
      "metadata": {
        "id": "83bg17Lr-7XK",
        "colab": {
          "base_uri": "https://localhost:8080/"
        },
        "outputId": "cabb19db-f7c4-451e-8e77-9f537990fe87"
      },
      "source": [
        "!mkdir rus-eng\n",
        "!unzip rus-eng.zip -d rus-eng/"
      ],
      "execution_count": 3,
      "outputs": [
        {
          "output_type": "stream",
          "name": "stdout",
          "text": [
            "Archive:  rus-eng.zip\n",
            "  inflating: rus-eng/rus.txt         \n",
            "  inflating: rus-eng/_about.txt      \n"
          ]
        }
      ]
    },
    {
      "cell_type": "code",
      "metadata": {
        "id": "7o5L92efMMhf",
        "colab": {
          "base_uri": "https://localhost:8080/"
        },
        "outputId": "a8b5f4a6-2803-46f9-afd0-a29a04a96ea6"
      },
      "source": [
        "!ls /content/rus-eng/ -lah"
      ],
      "execution_count": 4,
      "outputs": [
        {
          "output_type": "stream",
          "name": "stdout",
          "text": [
            "total 76M\n",
            "drwxr-xr-x 2 root root 4.0K Nov 22 21:11 .\n",
            "drwxr-xr-x 1 root root 4.0K Nov 22 21:11 ..\n",
            "-rw-r--r-- 1 root root 1.5K Jul 30 03:53 _about.txt\n",
            "-rw-r--r-- 1 root root  76M Jul 30 03:53 rus.txt\n"
          ]
        }
      ]
    },
    {
      "cell_type": "code",
      "metadata": {
        "id": "kRVATYOgJs1b"
      },
      "source": [
        "# Download the file\n",
        "path_to_file = \"/content/rus-eng/rus.txt\""
      ],
      "execution_count": 5,
      "outputs": []
    },
    {
      "cell_type": "code",
      "metadata": {
        "id": "rd0jw-eC3jEh"
      },
      "source": [
        "def preprocess_sentence(w):\n",
        "  w = w.lower().strip()\n",
        "\n",
        "  # creating a space between a word and the punctuation following it\n",
        "  # eg: \"he is a boy.\" => \"he is a boy .\"\n",
        "  # Reference:- https://stackoverflow.com/questions/3645931/python-padding-punctuation-with-white-spaces-keeping-punctuation\n",
        "  w = re.sub(r\"([?.!,])\", r\" \\1 \", w)\n",
        "  w = re.sub(r'[\" \"]+', \" \", w)\n",
        "\n",
        "  # replacing everything with space except (a-z, A-Z, \".\", \"?\", \"!\", \",\")\n",
        "  w = re.sub(r\"[^a-zA-Zа-яА-Я?.!,']+\", \" \", w)\n",
        "\n",
        "  w = w.strip()\n",
        "\n",
        "  # adding a start and an end token to the sentence\n",
        "  # so that the model know when to start and stop predicting.\n",
        "  w = '<start> ' + w + ' <end>'\n",
        "  return w"
      ],
      "execution_count": 6,
      "outputs": []
    },
    {
      "cell_type": "code",
      "metadata": {
        "id": "yV9lZXQXNbnH",
        "colab": {
          "base_uri": "https://localhost:8080/",
          "height": 36
        },
        "outputId": "12ab056f-ef78-484b-fa62-11eb905cc6e9"
      },
      "source": [
        "preprocess_sentence(\"I can't go.\")"
      ],
      "execution_count": 7,
      "outputs": [
        {
          "output_type": "execute_result",
          "data": {
            "text/plain": [
              "\"<start> i can't go . <end>\""
            ],
            "application/vnd.google.colaboratory.intrinsic+json": {
              "type": "string"
            }
          },
          "metadata": {},
          "execution_count": 7
        }
      ]
    },
    {
      "cell_type": "code",
      "metadata": {
        "id": "OHn4Dct23jEm"
      },
      "source": [
        "# 1. Remove the accents\n",
        "# 2. Clean the sentences\n",
        "# 3. Return word pairs in the format: [ENG, RUS]\n",
        "def create_dataset(path, num_examples):\n",
        "  lines = io.open(path, encoding='UTF-8').read().strip().split('\\n')\n",
        "\n",
        "  word_pairs = [[preprocess_sentence(w) for w in l.split('\\t')[:2]]  for l in lines[:num_examples]]\n",
        "\n",
        "  return zip(*word_pairs)"
      ],
      "execution_count": 8,
      "outputs": []
    },
    {
      "cell_type": "code",
      "metadata": {
        "id": "cTbSbBz55QtF",
        "colab": {
          "base_uri": "https://localhost:8080/"
        },
        "outputId": "205f95ea-fe0f-4d20-f0b1-95c03466dae5"
      },
      "source": [
        "en, ru = create_dataset(path_to_file, None)\n",
        "print(en[0])\n",
        "print(ru[0])"
      ],
      "execution_count": 9,
      "outputs": [
        {
          "output_type": "stream",
          "name": "stdout",
          "text": [
            "<start> go . <end>\n",
            "<start> марш ! <end>\n"
          ]
        }
      ]
    },
    {
      "cell_type": "code",
      "metadata": {
        "id": "bIOn8RCNDJXG"
      },
      "source": [
        "def tokenize(lang):\n",
        "  lang_tokenizer = tf.keras.preprocessing.text.Tokenizer(\n",
        "      filters='')\n",
        "  lang_tokenizer.fit_on_texts(lang)\n",
        "\n",
        "  tensor = lang_tokenizer.texts_to_sequences(lang)\n",
        "\n",
        "  tensor = tf.keras.preprocessing.sequence.pad_sequences(tensor,\n",
        "                                                         padding='post')\n",
        "\n",
        "  return tensor, lang_tokenizer"
      ],
      "execution_count": 10,
      "outputs": []
    },
    {
      "cell_type": "code",
      "metadata": {
        "id": "eAY9k49G3jE_"
      },
      "source": [
        "def load_dataset(path, num_examples=None):\n",
        "  # creating cleaned input, output pairs\n",
        "  targ_lang, inp_lang = create_dataset(path, num_examples)\n",
        "\n",
        "  input_tensor, inp_lang_tokenizer = tokenize(inp_lang)\n",
        "  target_tensor, targ_lang_tokenizer = tokenize(targ_lang)\n",
        "\n",
        "  return input_tensor, target_tensor, inp_lang_tokenizer, targ_lang_tokenizer"
      ],
      "execution_count": 11,
      "outputs": []
    },
    {
      "cell_type": "markdown",
      "metadata": {
        "id": "GOi42V79Ydlr"
      },
      "source": [
        "### Limit the size of the dataset to experiment faster (optional)\n"
      ]
    },
    {
      "cell_type": "code",
      "metadata": {
        "id": "C8j9g9AnIeZV",
        "colab": {
          "base_uri": "https://localhost:8080/"
        },
        "outputId": "7003644f-bed4-4b6c-e04a-9272c15d99ca"
      },
      "source": [
        "len(en), len(ru)"
      ],
      "execution_count": 12,
      "outputs": [
        {
          "output_type": "execute_result",
          "data": {
            "text/plain": [
              "(479223, 479223)"
            ]
          },
          "metadata": {},
          "execution_count": 12
        }
      ]
    },
    {
      "cell_type": "code",
      "metadata": {
        "id": "cnxC7q-j3jFD"
      },
      "source": [
        "# Try experimenting with the size of that dataset\n",
        "num_examples = 100000\n",
        "input_tensor, target_tensor, inp_lang, targ_lang = load_dataset(path_to_file, num_examples)\n",
        "\n",
        "# Calculate max_length of the target tensors\n",
        "max_length_targ, max_length_inp = target_tensor.shape[1], input_tensor.shape[1]"
      ],
      "execution_count": 13,
      "outputs": []
    },
    {
      "cell_type": "code",
      "metadata": {
        "id": "4QILQkOs3jFG",
        "colab": {
          "base_uri": "https://localhost:8080/"
        },
        "outputId": "d841be84-ff22-418d-e317-3122d2314864"
      },
      "source": [
        "# Creating training and validation sets using an 80-20 split\n",
        "input_tensor_train, input_tensor_val, target_tensor_train, target_tensor_val = train_test_split(input_tensor, target_tensor, test_size=0.2)\n",
        "\n",
        "# Show length\n",
        "print(len(input_tensor_train), len(target_tensor_train), len(input_tensor_val), len(target_tensor_val))"
      ],
      "execution_count": 14,
      "outputs": [
        {
          "output_type": "stream",
          "name": "stdout",
          "text": [
            "80000 80000 20000 20000\n"
          ]
        }
      ]
    },
    {
      "cell_type": "code",
      "metadata": {
        "id": "lJPmLZGMeD5q"
      },
      "source": [
        "def convert(lang, tensor):\n",
        "  for t in tensor:\n",
        "    if t!=0:\n",
        "      print (\"%d ----> %s\" % (t, lang.index_word[t]))"
      ],
      "execution_count": 15,
      "outputs": []
    },
    {
      "cell_type": "code",
      "metadata": {
        "id": "VXukARTDd7MT",
        "colab": {
          "base_uri": "https://localhost:8080/"
        },
        "outputId": "94cd001e-1351-4541-b106-f057d44b92b9"
      },
      "source": [
        "print (\"Input Language; index to word mapping\")\n",
        "convert(inp_lang, input_tensor_train[0])\n",
        "print ()\n",
        "print (\"Target Language; index to word mapping\")\n",
        "convert(targ_lang, target_tensor_train[0])"
      ],
      "execution_count": 16,
      "outputs": [
        {
          "output_type": "stream",
          "name": "stdout",
          "text": [
            "Input Language; index to word mapping\n",
            "1 ----> <start>\n",
            "12 ----> вы\n",
            "126 ----> лучше\n",
            "226 ----> всех\n",
            "3 ----> .\n",
            "2 ----> <end>\n",
            "\n",
            "Target Language; index to word mapping\n",
            "1 ----> <start>\n",
            "7 ----> you\n",
            "22 ----> are\n",
            "12 ----> the\n",
            "342 ----> best\n",
            "3 ----> .\n",
            "2 ----> <end>\n"
          ]
        }
      ]
    },
    {
      "cell_type": "markdown",
      "metadata": {
        "id": "rgCLkfv5uO3d"
      },
      "source": [
        "### Create a tf.data dataset"
      ]
    },
    {
      "cell_type": "code",
      "metadata": {
        "id": "TqHsArVZ3jFS"
      },
      "source": [
        "BUFFER_SIZE = len(input_tensor_train)\n",
        "BATCH_SIZE = 64\n",
        "steps_per_epoch = len(input_tensor_train)//BATCH_SIZE\n",
        "embedding_dim = 300\n",
        "units = 1024\n",
        "vocab_inp_size = len(inp_lang.word_index)+1\n",
        "vocab_tar_size = len(targ_lang.word_index)+1\n",
        "\n",
        "dataset = tf.data.Dataset.from_tensor_slices((input_tensor_train, target_tensor_train)).shuffle(BUFFER_SIZE)\n",
        "dataset = dataset.batch(BATCH_SIZE, drop_remainder=True)"
      ],
      "execution_count": 17,
      "outputs": []
    },
    {
      "cell_type": "code",
      "metadata": {
        "id": "qc6-NK1GtWQt",
        "colab": {
          "base_uri": "https://localhost:8080/"
        },
        "outputId": "d6c93ffc-9cf4-4e23-d8ef-bf253f269eed"
      },
      "source": [
        "example_input_batch, example_target_batch = next(iter(dataset))\n",
        "example_input_batch.shape, example_target_batch.shape"
      ],
      "execution_count": 18,
      "outputs": [
        {
          "output_type": "execute_result",
          "data": {
            "text/plain": [
              "(TensorShape([64, 15]), TensorShape([64, 11]))"
            ]
          },
          "metadata": {},
          "execution_count": 18
        }
      ]
    },
    {
      "cell_type": "markdown",
      "source": [
        "**Для эксперимента возьму двунаправленный слой GRU**"
      ],
      "metadata": {
        "id": "68zZxRZCveW5"
      }
    },
    {
      "cell_type": "code",
      "source": [
        "from keras.layers import GRU, Concatenate"
      ],
      "metadata": {
        "id": "x3EfyzA6glQm"
      },
      "execution_count": 19,
      "outputs": []
    },
    {
      "cell_type": "code",
      "metadata": {
        "id": "nZ2rI24i3jFg"
      },
      "source": [
        "class Encoder(tf.keras.Model):\n",
        "  def __init__(self, vocab_size, embedding_dim, enc_units, batch_sz):\n",
        "    super(Encoder, self).__init__()\n",
        "    self.batch_sz = batch_sz\n",
        "    self.enc_units = enc_units\n",
        "    self.embedding = tf.keras.layers.Embedding(vocab_size, embedding_dim)\n",
        "    self.gru = tf.keras.layers.Bidirectional(GRU(self.enc_units,\n",
        "                                   return_sequences=False,\n",
        "                                   return_state=True,\n",
        "                                   recurrent_initializer='glorot_uniform'))\n",
        "\n",
        "\n",
        "  def call(self, x, hidden):\n",
        "    x = self.embedding(x)\n",
        "    output, state_frw, state_bcw = self.gru(x, initial_state = hidden)\n",
        "    return state_frw, state_bcw\n",
        "\n",
        "  # def initialize_hidden_state(self):\n",
        "  #   return tf.zeros((self.batch_sz, self.enc_units))\n",
        "\n",
        "  def initialize_hidden_state(self):\n",
        "      return [tf.zeros((self.batch_sz, self.enc_units)) for i in range(2)]"
      ],
      "execution_count": 20,
      "outputs": []
    },
    {
      "cell_type": "code",
      "source": [
        "encoder = Encoder(vocab_inp_size, embedding_dim, units, BATCH_SIZE)\n",
        "# sample input\n",
        "encoder = Encoder(vocab_inp_size, embedding_dim, units, BATCH_SIZE)\n",
        "sample_hidden = encoder.initialize_hidden_state()\n",
        "forward_hidden, backward_hidden = encoder(example_input_batch, sample_hidden)\n",
        "print('Encoder forward_h shape: (batch size, units) {}'.format(forward_hidden.shape))\n",
        "print('Encoder backward_h shape: (batch size, units) {}'.format(backward_hidden.shape))\n"
      ],
      "metadata": {
        "colab": {
          "base_uri": "https://localhost:8080/"
        },
        "id": "vKHA_t1KkZkV",
        "outputId": "115136ee-8236-4203-f70e-9b47b34c0430"
      },
      "execution_count": 21,
      "outputs": [
        {
          "output_type": "stream",
          "name": "stdout",
          "text": [
            "Encoder forward_h shape: (batch size, units) (64, 1024)\n",
            "Encoder backward_h shape: (batch size, units) (64, 1024)\n"
          ]
        }
      ]
    },
    {
      "cell_type": "code",
      "metadata": {
        "id": "yJ_B3mhW3jFk"
      },
      "source": [
        "class Decoder(tf.keras.Model):\n",
        "  def __init__(self, vocab_size, embedding_dim, dec_units, batch_sz):\n",
        "    super(Decoder, self).__init__()\n",
        "    self.batch_sz = batch_sz\n",
        "    self.dec_units = dec_units\n",
        "    self.embedding = tf.keras.layers.Embedding(vocab_size, embedding_dim)\n",
        "    self.gru = tf.keras.layers.GRU(2*self.dec_units,\n",
        "                                   return_sequences=True,\n",
        "                                   return_state=True,\n",
        "                                   recurrent_initializer='glorot_uniform')\n",
        "    self.fc = tf.keras.layers.Dense(vocab_size)\n",
        "\n",
        "  def call(self, x, encoder_fwd_state, encoder_back_state):\n",
        "    # enc_output shape == (batch_size, max_length, hidden_size)\n",
        "\n",
        "    # x shape after passing through embedding == (batch_size, 1, embedding_dim)\n",
        "    x = self.embedding(x)\n",
        "\n",
        "    # x shape after concatenation == (batch_size, 1, embedding_dim + hidden_size)\n",
        "\n",
        "    # passing the concatenated vector to the GRU\n",
        "    output, state = self.gru(x, initial_state=Concatenate(axis=-1)([encoder_fwd_state, encoder_back_state]))\n",
        "\n",
        "    # output shape == (batch_size * 1, hidden_size)\n",
        "    output = tf.reshape(output, (-1, output.shape[2]))\n",
        "\n",
        "    # output shape == (batch_size, vocab)\n",
        "    x = self.fc(output)\n",
        "\n",
        "    return x, state"
      ],
      "execution_count": 22,
      "outputs": []
    },
    {
      "cell_type": "code",
      "metadata": {
        "id": "P5UY8wko3jFp"
      },
      "source": [
        "decoder = Decoder(vocab_tar_size, embedding_dim, units, BATCH_SIZE)\n",
        "\n",
        "decoder_sample_x, decoder_sample_h = decoder(tf.random.uniform((BATCH_SIZE, 1)),\n",
        "                                      forward_hidden, backward_hidden)"
      ],
      "execution_count": 23,
      "outputs": []
    },
    {
      "cell_type": "code",
      "metadata": {
        "colab": {
          "base_uri": "https://localhost:8080/"
        },
        "id": "XKcypC0AGeLR",
        "outputId": "6b80fc47-0b40-4271-802c-18edb604fa15"
      },
      "source": [
        "decoder_sample_x.shape"
      ],
      "execution_count": 24,
      "outputs": [
        {
          "output_type": "execute_result",
          "data": {
            "text/plain": [
              "TensorShape([64, 7386])"
            ]
          },
          "metadata": {},
          "execution_count": 24
        }
      ]
    },
    {
      "cell_type": "code",
      "metadata": {
        "id": "6y0HF-zMF_vp",
        "colab": {
          "base_uri": "https://localhost:8080/"
        },
        "outputId": "9335183f-5b2b-4d43-e1fe-abad68bec6c8"
      },
      "source": [
        "decoder_sample_h.shape"
      ],
      "execution_count": 25,
      "outputs": [
        {
          "output_type": "execute_result",
          "data": {
            "text/plain": [
              "TensorShape([64, 2048])"
            ]
          },
          "metadata": {},
          "execution_count": 25
        }
      ]
    },
    {
      "cell_type": "markdown",
      "metadata": {
        "id": "_ch_71VbIRfK"
      },
      "source": [
        "## Define the optimizer and the loss function"
      ]
    },
    {
      "cell_type": "code",
      "metadata": {
        "id": "WmTHr5iV3jFr"
      },
      "source": [
        "optimizer = tf.keras.optimizers.Adam()\n",
        "\n",
        "loss_object = tf.keras.losses.SparseCategoricalCrossentropy(\n",
        "    from_logits=True, reduction='none')\n",
        "\n",
        "def loss_function(real, pred):\n",
        "  mask = tf.math.logical_not(tf.math.equal(real, 0))\n",
        "  loss_ = loss_object(real, pred)\n",
        "\n",
        "  mask = tf.cast(mask, dtype=loss_.dtype)\n",
        "  loss_ *= mask\n",
        "\n",
        "  return tf.reduce_mean(loss_)"
      ],
      "execution_count": 26,
      "outputs": []
    },
    {
      "cell_type": "markdown",
      "metadata": {
        "id": "DMVWzzsfNl4e"
      },
      "source": [
        "## Checkpoints (Object-based saving)"
      ]
    },
    {
      "cell_type": "code",
      "metadata": {
        "id": "Zj8bXQTgNwrF"
      },
      "source": [
        "checkpoint_dir = './training_nmt_checkpoints'\n",
        "\n",
        "checkpoint_prefix = os.path.join(checkpoint_dir, \"ckpt\")\n",
        "\n",
        "checkpoint = tf.train.Checkpoint(optimizer=optimizer,\n",
        "                                 encoder=encoder,\n",
        "                                 decoder=decoder)"
      ],
      "execution_count": 27,
      "outputs": []
    },
    {
      "cell_type": "code",
      "metadata": {
        "id": "sC9ArXSsVfqn"
      },
      "source": [
        "@tf.function\n",
        "def train_step(inp, targ, enc_hidden):\n",
        "  loss = 0\n",
        "\n",
        "  with tf.GradientTape() as tape:\n",
        "    enc_hidden = encoder(inp, enc_hidden)\n",
        "\n",
        "    forward_hidden, backward_hidden = enc_hidden\n",
        "\n",
        "    dec_input = tf.expand_dims([targ_lang.word_index['<start>']] * BATCH_SIZE, 1)\n",
        "\n",
        "    # Teacher forcing - feeding the target as the next input\n",
        "    for t in range(1, targ.shape[1]): # Максимальная длина последовательности\n",
        "      # passing enc_output to the decoder\n",
        "      predictions, dec_hidden = decoder(dec_input, forward_hidden, backward_hidden)\n",
        "\n",
        "      # считаем лосс по каждому предсказанному слову\n",
        "      loss += loss_function(targ[:, t], predictions)\n",
        "\n",
        "      # using teacher forcing\n",
        "      dec_input = tf.expand_dims(targ[:, t], 1)\n",
        "\n",
        "  batch_loss = (loss / int(targ.shape[1]))\n",
        "\n",
        "  variables = encoder.trainable_variables + decoder.trainable_variables\n",
        "\n",
        "  gradients = tape.gradient(loss, variables)\n",
        "\n",
        "  optimizer.apply_gradients(zip(gradients, variables))\n",
        "\n",
        "  return batch_loss"
      ],
      "execution_count": 28,
      "outputs": []
    },
    {
      "cell_type": "code",
      "metadata": {
        "id": "ddefjBMa3jF0",
        "colab": {
          "base_uri": "https://localhost:8080/"
        },
        "outputId": "2e23ae05-f67d-4a40-f847-6b162435ce4f"
      },
      "source": [
        "EPOCHS = 25\n",
        "\n",
        "for epoch in range(EPOCHS):\n",
        "  start = time.time()\n",
        "\n",
        "  enc_hidden = encoder.initialize_hidden_state()\n",
        "  total_loss = 0\n",
        "\n",
        "  for (batch, (inp, targ)) in enumerate(dataset.take(steps_per_epoch)):\n",
        "    batch_loss = train_step(inp, targ, enc_hidden)\n",
        "    total_loss += batch_loss\n",
        "\n",
        "    if batch % 100 == 0:\n",
        "      print('Epoch {} Batch {} Loss {:.4f}'.format(epoch + 1,\n",
        "                                                   batch,\n",
        "                                                   batch_loss.numpy()))\n",
        "  # saving (checkpoint) the model every 2 epochs\n",
        "  if (epoch + 1) % 2 == 0:\n",
        "    checkpoint.save(file_prefix = checkpoint_prefix)\n",
        "\n",
        "  print('Epoch {} Loss {:.4f}'.format(epoch + 1,\n",
        "                                      total_loss / steps_per_epoch))\n",
        "  print('Time taken for 1 epoch {} sec\\n'.format(time.time() - start))"
      ],
      "execution_count": 29,
      "outputs": [
        {
          "output_type": "stream",
          "name": "stdout",
          "text": [
            "Epoch 1 Batch 0 Loss 4.7326\n",
            "Epoch 1 Batch 100 Loss 1.9887\n",
            "Epoch 1 Batch 200 Loss 1.8046\n",
            "Epoch 1 Batch 300 Loss 1.6649\n",
            "Epoch 1 Batch 400 Loss 1.3249\n",
            "Epoch 1 Batch 500 Loss 1.3625\n",
            "Epoch 1 Batch 600 Loss 1.2330\n",
            "Epoch 1 Batch 700 Loss 1.0805\n",
            "Epoch 1 Batch 800 Loss 0.9652\n",
            "Epoch 1 Batch 900 Loss 0.9360\n",
            "Epoch 1 Batch 1000 Loss 0.7847\n",
            "Epoch 1 Batch 1100 Loss 0.7915\n",
            "Epoch 1 Batch 1200 Loss 0.7594\n",
            "Epoch 1 Loss 1.2874\n",
            "Time taken for 1 epoch 152.8530216217041 sec\n",
            "\n",
            "Epoch 2 Batch 0 Loss 0.6644\n",
            "Epoch 2 Batch 100 Loss 0.5582\n",
            "Epoch 2 Batch 200 Loss 0.5852\n",
            "Epoch 2 Batch 300 Loss 0.5563\n",
            "Epoch 2 Batch 400 Loss 0.5815\n",
            "Epoch 2 Batch 500 Loss 0.4824\n",
            "Epoch 2 Batch 600 Loss 0.4903\n",
            "Epoch 2 Batch 700 Loss 0.6323\n",
            "Epoch 2 Batch 800 Loss 0.5683\n",
            "Epoch 2 Batch 900 Loss 0.4663\n",
            "Epoch 2 Batch 1000 Loss 0.4595\n",
            "Epoch 2 Batch 1100 Loss 0.4468\n",
            "Epoch 2 Batch 1200 Loss 0.3664\n",
            "Epoch 2 Loss 0.5253\n",
            "Time taken for 1 epoch 129.740624666214 sec\n",
            "\n",
            "Epoch 3 Batch 0 Loss 0.2167\n",
            "Epoch 3 Batch 100 Loss 0.2440\n",
            "Epoch 3 Batch 200 Loss 0.2040\n",
            "Epoch 3 Batch 300 Loss 0.2475\n",
            "Epoch 3 Batch 400 Loss 0.3083\n",
            "Epoch 3 Batch 500 Loss 0.3088\n",
            "Epoch 3 Batch 600 Loss 0.2682\n",
            "Epoch 3 Batch 700 Loss 0.2768\n",
            "Epoch 3 Batch 800 Loss 0.2362\n",
            "Epoch 3 Batch 900 Loss 0.4079\n",
            "Epoch 3 Batch 1000 Loss 0.2772\n",
            "Epoch 3 Batch 1100 Loss 0.2743\n",
            "Epoch 3 Batch 1200 Loss 0.2493\n",
            "Epoch 3 Loss 0.2788\n",
            "Time taken for 1 epoch 127.90597462654114 sec\n",
            "\n",
            "Epoch 4 Batch 0 Loss 0.1644\n",
            "Epoch 4 Batch 100 Loss 0.1340\n",
            "Epoch 4 Batch 200 Loss 0.1548\n",
            "Epoch 4 Batch 300 Loss 0.1369\n",
            "Epoch 4 Batch 400 Loss 0.1727\n",
            "Epoch 4 Batch 500 Loss 0.2239\n",
            "Epoch 4 Batch 600 Loss 0.1496\n",
            "Epoch 4 Batch 700 Loss 0.1401\n",
            "Epoch 4 Batch 800 Loss 0.1754\n",
            "Epoch 4 Batch 900 Loss 0.1464\n",
            "Epoch 4 Batch 1000 Loss 0.1153\n",
            "Epoch 4 Batch 1100 Loss 0.1557\n",
            "Epoch 4 Batch 1200 Loss 0.1764\n",
            "Epoch 4 Loss 0.1796\n",
            "Time taken for 1 epoch 131.27163290977478 sec\n",
            "\n",
            "Epoch 5 Batch 0 Loss 0.1237\n",
            "Epoch 5 Batch 100 Loss 0.1255\n",
            "Epoch 5 Batch 200 Loss 0.1157\n",
            "Epoch 5 Batch 300 Loss 0.0928\n",
            "Epoch 5 Batch 400 Loss 0.1085\n",
            "Epoch 5 Batch 500 Loss 0.1778\n",
            "Epoch 5 Batch 600 Loss 0.1456\n",
            "Epoch 5 Batch 700 Loss 0.1115\n",
            "Epoch 5 Batch 800 Loss 0.1828\n",
            "Epoch 5 Batch 900 Loss 0.1300\n",
            "Epoch 5 Batch 1000 Loss 0.1503\n",
            "Epoch 5 Batch 1100 Loss 0.1692\n",
            "Epoch 5 Batch 1200 Loss 0.1482\n",
            "Epoch 5 Loss 0.1380\n",
            "Time taken for 1 epoch 128.71687054634094 sec\n",
            "\n",
            "Epoch 6 Batch 0 Loss 0.1327\n",
            "Epoch 6 Batch 100 Loss 0.0986\n",
            "Epoch 6 Batch 200 Loss 0.0812\n",
            "Epoch 6 Batch 300 Loss 0.1376\n",
            "Epoch 6 Batch 400 Loss 0.0918\n",
            "Epoch 6 Batch 500 Loss 0.0959\n",
            "Epoch 6 Batch 600 Loss 0.1188\n",
            "Epoch 6 Batch 700 Loss 0.1295\n",
            "Epoch 6 Batch 800 Loss 0.1762\n",
            "Epoch 6 Batch 900 Loss 0.1378\n",
            "Epoch 6 Batch 1000 Loss 0.1799\n",
            "Epoch 6 Batch 1100 Loss 0.0773\n",
            "Epoch 6 Batch 1200 Loss 0.1497\n",
            "Epoch 6 Loss 0.1174\n",
            "Time taken for 1 epoch 139.71877360343933 sec\n",
            "\n",
            "Epoch 7 Batch 0 Loss 0.1098\n",
            "Epoch 7 Batch 100 Loss 0.0965\n",
            "Epoch 7 Batch 200 Loss 0.0988\n",
            "Epoch 7 Batch 300 Loss 0.0663\n",
            "Epoch 7 Batch 400 Loss 0.1150\n",
            "Epoch 7 Batch 500 Loss 0.0878\n",
            "Epoch 7 Batch 600 Loss 0.1023\n",
            "Epoch 7 Batch 700 Loss 0.1493\n",
            "Epoch 7 Batch 800 Loss 0.1147\n",
            "Epoch 7 Batch 900 Loss 0.1341\n",
            "Epoch 7 Batch 1000 Loss 0.1075\n",
            "Epoch 7 Batch 1100 Loss 0.1296\n",
            "Epoch 7 Batch 1200 Loss 0.1232\n",
            "Epoch 7 Loss 0.1049\n",
            "Time taken for 1 epoch 128.29547238349915 sec\n",
            "\n",
            "Epoch 8 Batch 0 Loss 0.1103\n",
            "Epoch 8 Batch 100 Loss 0.0631\n",
            "Epoch 8 Batch 200 Loss 0.0891\n",
            "Epoch 8 Batch 300 Loss 0.0646\n",
            "Epoch 8 Batch 400 Loss 0.1003\n",
            "Epoch 8 Batch 500 Loss 0.1094\n",
            "Epoch 8 Batch 600 Loss 0.1091\n",
            "Epoch 8 Batch 700 Loss 0.1196\n",
            "Epoch 8 Batch 800 Loss 0.0816\n",
            "Epoch 8 Batch 900 Loss 0.0923\n",
            "Epoch 8 Batch 1000 Loss 0.1088\n",
            "Epoch 8 Batch 1100 Loss 0.0924\n",
            "Epoch 8 Batch 1200 Loss 0.0978\n",
            "Epoch 8 Loss 0.0958\n",
            "Time taken for 1 epoch 130.647292137146 sec\n",
            "\n",
            "Epoch 9 Batch 0 Loss 0.0704\n",
            "Epoch 9 Batch 100 Loss 0.0400\n",
            "Epoch 9 Batch 200 Loss 0.0601\n",
            "Epoch 9 Batch 300 Loss 0.0935\n",
            "Epoch 9 Batch 400 Loss 0.0682\n",
            "Epoch 9 Batch 500 Loss 0.0727\n",
            "Epoch 9 Batch 600 Loss 0.1266\n",
            "Epoch 9 Batch 700 Loss 0.0759\n",
            "Epoch 9 Batch 800 Loss 0.0830\n",
            "Epoch 9 Batch 900 Loss 0.1334\n",
            "Epoch 9 Batch 1000 Loss 0.1056\n",
            "Epoch 9 Batch 1100 Loss 0.1121\n",
            "Epoch 9 Batch 1200 Loss 0.1356\n",
            "Epoch 9 Loss 0.0901\n",
            "Time taken for 1 epoch 128.5173375606537 sec\n",
            "\n",
            "Epoch 10 Batch 0 Loss 0.0548\n",
            "Epoch 10 Batch 100 Loss 0.0466\n",
            "Epoch 10 Batch 200 Loss 0.0359\n",
            "Epoch 10 Batch 300 Loss 0.0892\n",
            "Epoch 10 Batch 400 Loss 0.0311\n",
            "Epoch 10 Batch 500 Loss 0.1458\n",
            "Epoch 10 Batch 600 Loss 0.1024\n",
            "Epoch 10 Batch 700 Loss 0.0782\n",
            "Epoch 10 Batch 800 Loss 0.1345\n",
            "Epoch 10 Batch 900 Loss 0.0805\n",
            "Epoch 10 Batch 1000 Loss 0.0755\n",
            "Epoch 10 Batch 1100 Loss 0.0951\n",
            "Epoch 10 Batch 1200 Loss 0.0713\n",
            "Epoch 10 Loss 0.0856\n",
            "Time taken for 1 epoch 135.6517298221588 sec\n",
            "\n",
            "Epoch 11 Batch 0 Loss 0.0761\n",
            "Epoch 11 Batch 100 Loss 0.0306\n",
            "Epoch 11 Batch 200 Loss 0.1084\n",
            "Epoch 11 Batch 300 Loss 0.0875\n",
            "Epoch 11 Batch 400 Loss 0.0774\n",
            "Epoch 11 Batch 500 Loss 0.0797\n",
            "Epoch 11 Batch 600 Loss 0.0993\n",
            "Epoch 11 Batch 700 Loss 0.0636\n",
            "Epoch 11 Batch 800 Loss 0.0817\n",
            "Epoch 11 Batch 900 Loss 0.0748\n",
            "Epoch 11 Batch 1000 Loss 0.0943\n",
            "Epoch 11 Batch 1100 Loss 0.1180\n",
            "Epoch 11 Batch 1200 Loss 0.0927\n",
            "Epoch 11 Loss 0.0810\n",
            "Time taken for 1 epoch 128.6552333831787 sec\n",
            "\n",
            "Epoch 12 Batch 0 Loss 0.0484\n",
            "Epoch 12 Batch 100 Loss 0.0402\n",
            "Epoch 12 Batch 200 Loss 0.0703\n",
            "Epoch 12 Batch 300 Loss 0.0666\n",
            "Epoch 12 Batch 400 Loss 0.1184\n",
            "Epoch 12 Batch 500 Loss 0.0836\n",
            "Epoch 12 Batch 600 Loss 0.0732\n",
            "Epoch 12 Batch 700 Loss 0.0867\n",
            "Epoch 12 Batch 800 Loss 0.0663\n",
            "Epoch 12 Batch 900 Loss 0.1211\n",
            "Epoch 12 Batch 1000 Loss 0.0869\n",
            "Epoch 12 Batch 1100 Loss 0.0834\n",
            "Epoch 12 Batch 1200 Loss 0.1064\n",
            "Epoch 12 Loss 0.0771\n",
            "Time taken for 1 epoch 134.79520678520203 sec\n",
            "\n",
            "Epoch 13 Batch 0 Loss 0.0696\n",
            "Epoch 13 Batch 100 Loss 0.0595\n",
            "Epoch 13 Batch 200 Loss 0.0550\n",
            "Epoch 13 Batch 300 Loss 0.0568\n",
            "Epoch 13 Batch 400 Loss 0.1027\n",
            "Epoch 13 Batch 500 Loss 0.0926\n",
            "Epoch 13 Batch 600 Loss 0.1262\n",
            "Epoch 13 Batch 700 Loss 0.0832\n",
            "Epoch 13 Batch 800 Loss 0.0833\n",
            "Epoch 13 Batch 900 Loss 0.1224\n",
            "Epoch 13 Batch 1000 Loss 0.0759\n",
            "Epoch 13 Batch 1100 Loss 0.0623\n",
            "Epoch 13 Batch 1200 Loss 0.0893\n",
            "Epoch 13 Loss 0.0744\n",
            "Time taken for 1 epoch 129.4205756187439 sec\n",
            "\n",
            "Epoch 14 Batch 0 Loss 0.0442\n",
            "Epoch 14 Batch 100 Loss 0.0706\n",
            "Epoch 14 Batch 200 Loss 0.0431\n",
            "Epoch 14 Batch 300 Loss 0.0625\n",
            "Epoch 14 Batch 400 Loss 0.0998\n",
            "Epoch 14 Batch 500 Loss 0.0496\n",
            "Epoch 14 Batch 600 Loss 0.0849\n",
            "Epoch 14 Batch 700 Loss 0.0653\n",
            "Epoch 14 Batch 800 Loss 0.1122\n",
            "Epoch 14 Batch 900 Loss 0.0557\n",
            "Epoch 14 Batch 1000 Loss 0.1582\n",
            "Epoch 14 Batch 1100 Loss 0.0890\n",
            "Epoch 14 Batch 1200 Loss 0.0654\n",
            "Epoch 14 Loss 0.0716\n",
            "Time taken for 1 epoch 136.16456651687622 sec\n",
            "\n",
            "Epoch 15 Batch 0 Loss 0.0313\n",
            "Epoch 15 Batch 100 Loss 0.0553\n",
            "Epoch 15 Batch 200 Loss 0.0567\n",
            "Epoch 15 Batch 300 Loss 0.0561\n",
            "Epoch 15 Batch 400 Loss 0.0663\n",
            "Epoch 15 Batch 500 Loss 0.0750\n",
            "Epoch 15 Batch 600 Loss 0.0566\n",
            "Epoch 15 Batch 700 Loss 0.0581\n",
            "Epoch 15 Batch 800 Loss 0.0412\n",
            "Epoch 15 Batch 900 Loss 0.0863\n",
            "Epoch 15 Batch 1000 Loss 0.0836\n",
            "Epoch 15 Batch 1100 Loss 0.0571\n",
            "Epoch 15 Batch 1200 Loss 0.0878\n",
            "Epoch 15 Loss 0.0691\n",
            "Time taken for 1 epoch 129.3362991809845 sec\n",
            "\n",
            "Epoch 16 Batch 0 Loss 0.0738\n",
            "Epoch 16 Batch 100 Loss 0.0751\n",
            "Epoch 16 Batch 200 Loss 0.0668\n",
            "Epoch 16 Batch 300 Loss 0.0539\n",
            "Epoch 16 Batch 400 Loss 0.0541\n",
            "Epoch 16 Batch 500 Loss 0.0345\n",
            "Epoch 16 Batch 600 Loss 0.0788\n",
            "Epoch 16 Batch 700 Loss 0.0669\n",
            "Epoch 16 Batch 800 Loss 0.0792\n",
            "Epoch 16 Batch 900 Loss 0.0890\n",
            "Epoch 16 Batch 1000 Loss 0.0832\n",
            "Epoch 16 Batch 1100 Loss 0.0711\n",
            "Epoch 16 Batch 1200 Loss 0.1250\n",
            "Epoch 16 Loss 0.0671\n",
            "Time taken for 1 epoch 148.84731221199036 sec\n",
            "\n",
            "Epoch 17 Batch 0 Loss 0.0233\n",
            "Epoch 17 Batch 100 Loss 0.0516\n",
            "Epoch 17 Batch 200 Loss 0.0639\n",
            "Epoch 17 Batch 300 Loss 0.0543\n",
            "Epoch 17 Batch 400 Loss 0.0341\n",
            "Epoch 17 Batch 500 Loss 0.0726\n",
            "Epoch 17 Batch 600 Loss 0.0465\n",
            "Epoch 17 Batch 700 Loss 0.0641\n",
            "Epoch 17 Batch 800 Loss 0.0376\n",
            "Epoch 17 Batch 900 Loss 0.0566\n",
            "Epoch 17 Batch 1000 Loss 0.0845\n",
            "Epoch 17 Batch 1100 Loss 0.0561\n",
            "Epoch 17 Batch 1200 Loss 0.0783\n",
            "Epoch 17 Loss 0.0647\n",
            "Time taken for 1 epoch 129.5827498435974 sec\n",
            "\n",
            "Epoch 18 Batch 0 Loss 0.0715\n",
            "Epoch 18 Batch 100 Loss 0.0485\n",
            "Epoch 18 Batch 200 Loss 0.0633\n",
            "Epoch 18 Batch 300 Loss 0.0497\n",
            "Epoch 18 Batch 400 Loss 0.0683\n",
            "Epoch 18 Batch 500 Loss 0.0769\n",
            "Epoch 18 Batch 600 Loss 0.0744\n",
            "Epoch 18 Batch 700 Loss 0.0709\n",
            "Epoch 18 Batch 800 Loss 0.1021\n",
            "Epoch 18 Batch 900 Loss 0.0585\n",
            "Epoch 18 Batch 1000 Loss 0.0557\n",
            "Epoch 18 Batch 1100 Loss 0.0393\n",
            "Epoch 18 Batch 1200 Loss 0.1123\n",
            "Epoch 18 Loss 0.0633\n",
            "Time taken for 1 epoch 130.93217253684998 sec\n",
            "\n",
            "Epoch 19 Batch 0 Loss 0.0276\n",
            "Epoch 19 Batch 100 Loss 0.0302\n",
            "Epoch 19 Batch 200 Loss 0.0665\n",
            "Epoch 19 Batch 300 Loss 0.0635\n",
            "Epoch 19 Batch 400 Loss 0.0608\n",
            "Epoch 19 Batch 500 Loss 0.0689\n",
            "Epoch 19 Batch 600 Loss 0.0372\n",
            "Epoch 19 Batch 700 Loss 0.0611\n",
            "Epoch 19 Batch 800 Loss 0.0609\n",
            "Epoch 19 Batch 900 Loss 0.1074\n",
            "Epoch 19 Batch 1000 Loss 0.0791\n",
            "Epoch 19 Batch 1100 Loss 0.1025\n",
            "Epoch 19 Batch 1200 Loss 0.0584\n",
            "Epoch 19 Loss 0.0621\n",
            "Time taken for 1 epoch 128.77902364730835 sec\n",
            "\n",
            "Epoch 20 Batch 0 Loss 0.0762\n",
            "Epoch 20 Batch 100 Loss 0.0483\n",
            "Epoch 20 Batch 200 Loss 0.0442\n",
            "Epoch 20 Batch 300 Loss 0.0560\n",
            "Epoch 20 Batch 400 Loss 0.0318\n",
            "Epoch 20 Batch 500 Loss 0.0337\n",
            "Epoch 20 Batch 600 Loss 0.0845\n",
            "Epoch 20 Batch 700 Loss 0.0595\n",
            "Epoch 20 Batch 800 Loss 0.0561\n",
            "Epoch 20 Batch 900 Loss 0.0948\n",
            "Epoch 20 Batch 1000 Loss 0.0721\n",
            "Epoch 20 Batch 1100 Loss 0.1001\n",
            "Epoch 20 Batch 1200 Loss 0.0469\n",
            "Epoch 20 Loss 0.0600\n",
            "Time taken for 1 epoch 135.01517176628113 sec\n",
            "\n",
            "Epoch 21 Batch 0 Loss 0.0353\n",
            "Epoch 21 Batch 100 Loss 0.0397\n",
            "Epoch 21 Batch 200 Loss 0.0506\n",
            "Epoch 21 Batch 300 Loss 0.0963\n",
            "Epoch 21 Batch 400 Loss 0.0242\n",
            "Epoch 21 Batch 500 Loss 0.0479\n",
            "Epoch 21 Batch 600 Loss 0.0756\n",
            "Epoch 21 Batch 700 Loss 0.0552\n",
            "Epoch 21 Batch 800 Loss 0.0815\n",
            "Epoch 21 Batch 900 Loss 0.0444\n",
            "Epoch 21 Batch 1000 Loss 0.0484\n",
            "Epoch 21 Batch 1100 Loss 0.0838\n",
            "Epoch 21 Batch 1200 Loss 0.0400\n",
            "Epoch 21 Loss 0.0591\n",
            "Time taken for 1 epoch 129.08842754364014 sec\n",
            "\n",
            "Epoch 22 Batch 0 Loss 0.0558\n",
            "Epoch 22 Batch 100 Loss 0.0527\n",
            "Epoch 22 Batch 200 Loss 0.0666\n",
            "Epoch 22 Batch 300 Loss 0.0414\n",
            "Epoch 22 Batch 400 Loss 0.0372\n",
            "Epoch 22 Batch 500 Loss 0.0370\n",
            "Epoch 22 Batch 600 Loss 0.0436\n",
            "Epoch 22 Batch 700 Loss 0.0548\n",
            "Epoch 22 Batch 800 Loss 0.0580\n",
            "Epoch 22 Batch 900 Loss 0.0441\n",
            "Epoch 22 Batch 1000 Loss 0.0761\n",
            "Epoch 22 Batch 1100 Loss 0.0405\n",
            "Epoch 22 Batch 1200 Loss 0.0638\n",
            "Epoch 22 Loss 0.0578\n",
            "Time taken for 1 epoch 135.7623405456543 sec\n",
            "\n",
            "Epoch 23 Batch 0 Loss 0.0292\n",
            "Epoch 23 Batch 100 Loss 0.0196\n",
            "Epoch 23 Batch 200 Loss 0.0683\n",
            "Epoch 23 Batch 300 Loss 0.0962\n",
            "Epoch 23 Batch 400 Loss 0.0535\n",
            "Epoch 23 Batch 500 Loss 0.0533\n",
            "Epoch 23 Batch 600 Loss 0.0666\n",
            "Epoch 23 Batch 700 Loss 0.0500\n",
            "Epoch 23 Batch 800 Loss 0.0434\n",
            "Epoch 23 Batch 900 Loss 0.0486\n",
            "Epoch 23 Batch 1000 Loss 0.0345\n",
            "Epoch 23 Batch 1100 Loss 0.0669\n",
            "Epoch 23 Batch 1200 Loss 0.0827\n",
            "Epoch 23 Loss 0.0566\n",
            "Time taken for 1 epoch 128.81424951553345 sec\n",
            "\n",
            "Epoch 24 Batch 0 Loss 0.0551\n",
            "Epoch 24 Batch 100 Loss 0.0481\n",
            "Epoch 24 Batch 200 Loss 0.0266\n",
            "Epoch 24 Batch 300 Loss 0.0396\n",
            "Epoch 24 Batch 400 Loss 0.0567\n",
            "Epoch 24 Batch 500 Loss 0.0778\n",
            "Epoch 24 Batch 600 Loss 0.0383\n",
            "Epoch 24 Batch 700 Loss 0.0580\n",
            "Epoch 24 Batch 800 Loss 0.0669\n",
            "Epoch 24 Batch 900 Loss 0.0529\n",
            "Epoch 24 Batch 1000 Loss 0.0875\n",
            "Epoch 24 Batch 1100 Loss 0.0766\n",
            "Epoch 24 Batch 1200 Loss 0.0565\n",
            "Epoch 24 Loss 0.0554\n",
            "Time taken for 1 epoch 135.57741594314575 sec\n",
            "\n",
            "Epoch 25 Batch 0 Loss 0.0539\n",
            "Epoch 25 Batch 100 Loss 0.0377\n",
            "Epoch 25 Batch 200 Loss 0.0552\n",
            "Epoch 25 Batch 300 Loss 0.0618\n",
            "Epoch 25 Batch 400 Loss 0.0771\n",
            "Epoch 25 Batch 500 Loss 0.0685\n",
            "Epoch 25 Batch 600 Loss 0.0361\n",
            "Epoch 25 Batch 700 Loss 0.0425\n",
            "Epoch 25 Batch 800 Loss 0.0325\n",
            "Epoch 25 Batch 900 Loss 0.0368\n",
            "Epoch 25 Batch 1000 Loss 0.0566\n",
            "Epoch 25 Batch 1100 Loss 0.0657\n",
            "Epoch 25 Batch 1200 Loss 0.0511\n",
            "Epoch 25 Loss 0.0541\n",
            "Time taken for 1 epoch 128.6025469303131 sec\n",
            "\n"
          ]
        }
      ]
    },
    {
      "cell_type": "markdown",
      "metadata": {
        "id": "mU3Ce8M6I3rz"
      },
      "source": [
        "## Translate\n",
        "\n",
        "* The evaluate function is similar to the training loop, except we don't use *teacher forcing* here. The input to the decoder at each time step is its previous predictions along with the hidden state and the encoder output.\n",
        "* Stop predicting when the model predicts the *end token*.\n",
        "* And store the *attention weights for every time step*.\n",
        "\n",
        "Note: The encoder output is calculated only once for one input."
      ]
    },
    {
      "cell_type": "code",
      "metadata": {
        "id": "EbQpyYs13jF_"
      },
      "source": [
        "def evaluate(sentence):\n",
        "  attention_plot = np.zeros((max_length_targ, max_length_inp))\n",
        "\n",
        "  sentence = preprocess_sentence(sentence)\n",
        "\n",
        "  inputs = [inp_lang.word_index[i] for i in sentence.split(' ')]\n",
        "  inputs = tf.keras.preprocessing.sequence.pad_sequences([inputs],\n",
        "                                                         maxlen=max_length_inp,\n",
        "                                                         padding='post')\n",
        "  inputs = tf.convert_to_tensor(inputs)\n",
        "\n",
        "  result = ''\n",
        "\n",
        "  hidden = [tf.zeros((1, units)) for i in range(2)]\n",
        "  enc_hidden = encoder(inputs, hidden)\n",
        "\n",
        "  forward_hidden, backward_hidden = enc_hidden\n",
        "\n",
        "  dec_input = tf.expand_dims([targ_lang.word_index['<start>']], 0)\n",
        "\n",
        "  for t in range(max_length_targ):\n",
        "    predictions, dec_hidden = decoder(dec_input, forward_hidden, backward_hidden)\n",
        "\n",
        "    # storing the attention weights to plot later on\n",
        "    predicted_id = tf.argmax(predictions[0]).numpy()\n",
        "    result += targ_lang.index_word[predicted_id] + ' '\n",
        "\n",
        "    if targ_lang.index_word[predicted_id] == '<end>':\n",
        "      return result, sentence\n",
        "\n",
        "    # the predicted ID is fed back into the model\n",
        "    dec_input = tf.expand_dims([predicted_id], 0)\n",
        "\n",
        "  return result, sentence"
      ],
      "execution_count": 30,
      "outputs": []
    },
    {
      "cell_type": "code",
      "metadata": {
        "id": "sl9zUHzg3jGI"
      },
      "source": [
        "def translate(sentence):\n",
        "  result, sentence = evaluate(sentence)\n",
        "\n",
        "  print('Input: %s' % (sentence))\n",
        "  print('Predicted translation: {}'.format(result))"
      ],
      "execution_count": 33,
      "outputs": []
    },
    {
      "cell_type": "markdown",
      "metadata": {
        "id": "n250XbnjOaqP"
      },
      "source": [
        "## Restore the latest checkpoint and test"
      ]
    },
    {
      "cell_type": "code",
      "metadata": {
        "id": "UJpT9D5_OgP6"
      },
      "source": [
        "# restoring the latest checkpoint in checkpoint_dir\n",
        "# checkpoint.restore(tf.train.latest_checkpoint(checkpoint_dir))"
      ],
      "execution_count": 31,
      "outputs": []
    },
    {
      "cell_type": "code",
      "metadata": {
        "id": "WrAM0FDomq3E",
        "colab": {
          "base_uri": "https://localhost:8080/"
        },
        "outputId": "45422753-07a7-446c-8bae-107b2611d47e"
      },
      "source": [
        "translate('Здесь хорошо.')"
      ],
      "execution_count": 34,
      "outputs": [
        {
          "output_type": "stream",
          "name": "stdout",
          "text": [
            "Input: <start> здесь хорошо . <end>\n",
            "Predicted translation: it's good here . <end> \n"
          ]
        }
      ]
    },
    {
      "cell_type": "code",
      "metadata": {
        "id": "5bhFfwcIMX5i",
        "colab": {
          "base_uri": "https://localhost:8080/"
        },
        "outputId": "0be8c0bf-8bf9-4fcc-8848-87218359bbaf"
      },
      "source": [
        "translate('Я не смогу поехать.')"
      ],
      "execution_count": 35,
      "outputs": [
        {
          "output_type": "stream",
          "name": "stdout",
          "text": [
            "Input: <start> я не смогу поехать . <end>\n",
            "Predicted translation: i can't go . <end> \n"
          ]
        }
      ]
    },
    {
      "cell_type": "code",
      "metadata": {
        "id": "zSx2iM36EZQZ",
        "colab": {
          "base_uri": "https://localhost:8080/"
        },
        "outputId": "918b6ae4-126f-40fb-e3b1-b447c608577c"
      },
      "source": [
        "translate(u'Вы еще дома?')"
      ],
      "execution_count": 36,
      "outputs": [
        {
          "output_type": "stream",
          "name": "stdout",
          "text": [
            "Input: <start> вы еще дома ? <end>\n",
            "Predicted translation: are you still at home ? <end> \n"
          ]
        }
      ]
    },
    {
      "cell_type": "code",
      "metadata": {
        "id": "A3LLCx3ZE0Ls",
        "colab": {
          "base_uri": "https://localhost:8080/"
        },
        "outputId": "7dc0599f-3591-419e-a441-25cd9860e8cb"
      },
      "source": [
        "translate(u'Вы всё еще дома?')"
      ],
      "execution_count": 37,
      "outputs": [
        {
          "output_type": "stream",
          "name": "stdout",
          "text": [
            "Input: <start> вы вс еще дома ? <end>\n",
            "Predicted translation: are you still at home ? <end> \n"
          ]
        }
      ]
    },
    {
      "cell_type": "code",
      "metadata": {
        "id": "DUQVLVqUE1YW",
        "colab": {
          "base_uri": "https://localhost:8080/"
        },
        "outputId": "5b233e63-6bf7-4b3b-d4c1-b8aa8d8a516d"
      },
      "source": [
        "translate(u'Попробуй сделать это.')"
      ],
      "execution_count": 38,
      "outputs": [
        {
          "output_type": "stream",
          "name": "stdout",
          "text": [
            "Input: <start> попробуй сделать это . <end>\n",
            "Predicted translation: try and try and try and try and try and try \n"
          ]
        }
      ]
    },
    {
      "cell_type": "code",
      "metadata": {
        "id": "f09_hUFx9EJh",
        "colab": {
          "base_uri": "https://localhost:8080/"
        },
        "outputId": "74c2ae49-950f-4809-c7a6-737517505389"
      },
      "source": [
        "translate(u'Я люблю, когда идет снег.')"
      ],
      "execution_count": 39,
      "outputs": [
        {
          "output_type": "stream",
          "name": "stdout",
          "text": [
            "Input: <start> я люблю , когда идет снег . <end>\n",
            "Predicted translation: i like when it rains . <end> \n"
          ]
        }
      ]
    },
    {
      "cell_type": "code",
      "metadata": {
        "id": "e7c5p8rmkHQG",
        "colab": {
          "base_uri": "https://localhost:8080/"
        },
        "outputId": "71944f52-7869-423c-931b-d77c08343215"
      },
      "source": [
        "translate(u'Я никогда такого не делаю.')"
      ],
      "execution_count": 40,
      "outputs": [
        {
          "output_type": "stream",
          "name": "stdout",
          "text": [
            "Input: <start> я никогда такого не делаю . <end>\n",
            "Predicted translation: i never done this . <end> \n"
          ]
        }
      ]
    },
    {
      "cell_type": "code",
      "source": [
        "translate('Я хочу поехать в отпуск.')"
      ],
      "metadata": {
        "colab": {
          "base_uri": "https://localhost:8080/"
        },
        "id": "TxGkYLKgA33D",
        "outputId": "2a26a3c1-0e10-47b8-b4b7-5e219c571b28"
      },
      "execution_count": 41,
      "outputs": [
        {
          "output_type": "stream",
          "name": "stdout",
          "text": [
            "Input: <start> я хочу поехать в отпуск . <end>\n",
            "Predicted translation: i want to go to go to go to go to \n"
          ]
        }
      ]
    },
    {
      "cell_type": "code",
      "source": [
        "translate('Я тебя люблю')"
      ],
      "metadata": {
        "colab": {
          "base_uri": "https://localhost:8080/"
        },
        "id": "uZbjLtv2BwGZ",
        "outputId": "6d1b0632-47d6-414a-da8c-4f1eba5ee4f8"
      },
      "execution_count": 42,
      "outputs": [
        {
          "output_type": "stream",
          "name": "stdout",
          "text": [
            "Input: <start> я тебя люблю <end>\n",
            "Predicted translation: i love you . <end> \n"
          ]
        }
      ]
    },
    {
      "cell_type": "code",
      "source": [
        "translate('У меня есть собака')"
      ],
      "metadata": {
        "colab": {
          "base_uri": "https://localhost:8080/"
        },
        "id": "EsB5BRQdBTKD",
        "outputId": "5830d793-ae9c-4a59-f1d8-ec5c41fac447"
      },
      "execution_count": 43,
      "outputs": [
        {
          "output_type": "stream",
          "name": "stdout",
          "text": [
            "Input: <start> у меня есть собака <end>\n",
            "Predicted translation: i have a dog . <end> \n"
          ]
        }
      ]
    },
    {
      "cell_type": "code",
      "source": [
        "translate('Как у тебя дела?')"
      ],
      "metadata": {
        "colab": {
          "base_uri": "https://localhost:8080/"
        },
        "id": "2xJPd5a2C_Ov",
        "outputId": "1ef0cc58-ffe5-459e-8eda-48d4c40ebeb5"
      },
      "execution_count": 44,
      "outputs": [
        {
          "output_type": "stream",
          "name": "stdout",
          "text": [
            "Input: <start> как у тебя дела ? <end>\n",
            "Predicted translation: how are you ? <end> \n"
          ]
        }
      ]
    },
    {
      "cell_type": "code",
      "source": [
        "translate('Жизнь прекрасна')"
      ],
      "metadata": {
        "colab": {
          "base_uri": "https://localhost:8080/"
        },
        "id": "ZBcSHjAC2hyI",
        "outputId": "80bcdf40-f107-4ae9-fa07-f3f68ce5b43f"
      },
      "execution_count": 45,
      "outputs": [
        {
          "output_type": "stream",
          "name": "stdout",
          "text": [
            "Input: <start> жизнь прекрасна <end>\n",
            "Predicted translation: life is beautiful . <end> \n"
          ]
        }
      ]
    },
    {
      "cell_type": "code",
      "source": [
        "translate(u'Когда у тебя день рождения?')"
      ],
      "metadata": {
        "colab": {
          "base_uri": "https://localhost:8080/"
        },
        "id": "DhRnaJOG25_m",
        "outputId": "709b1cc1-c797-4a1e-852f-b10c94e2ca35"
      },
      "execution_count": 46,
      "outputs": [
        {
          "output_type": "stream",
          "name": "stdout",
          "text": [
            "Input: <start> когда у тебя день рождения ? <end>\n",
            "Predicted translation: how bad ? <end> \n"
          ]
        }
      ]
    },
    {
      "cell_type": "code",
      "source": [],
      "metadata": {
        "id": "oQkpI2M-6d5m"
      },
      "execution_count": null,
      "outputs": []
    }
  ]
}